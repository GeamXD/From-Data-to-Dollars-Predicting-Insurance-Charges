{
 "cells": [
  {
   "source": [
    "![](image.jpg)\n",
    "\n",
    "\n",
    "Dive into the heart of data science with a project that combines healthcare insights and predictive analytics. As a Data Scientist at a top Health Insurance company, you have the opportunity to predict customer healthcare costs using the power of machine learning. Your insights will help tailor services and guide customers in planning their healthcare expenses more effectively.\n",
    "\n",
    "## Dataset Summary\n",
    "\n",
    "Meet your primary tool: the `insurance.csv` dataset. Packed with information on health insurance customers, this dataset is your key to unlocking patterns in healthcare costs. Here's what you need to know about the data you'll be working with:\n",
    "\n",
    "## insurance.csv\n",
    "| Column    | Data Type | Description                                                      |\n",
    "|-----------|-----------|------------------------------------------------------------------|\n",
    "| `age`       | int       | Age of the primary beneficiary.                                  |\n",
    "| `sex`       | object    | Gender of the insurance contractor (male or female).             |\n",
    "| `bmi`       | float     | Body mass index, a key indicator of body fat based on height and weight. |\n",
    "| `children`  | int       | Number of dependents covered by the insurance plan.              |\n",
    "| `smoker`    | object    | Indicates whether the beneficiary smokes (yes or no).            |\n",
    "| `region`    | object    | The beneficiary's residential area in the US, divided into four regions. |\n",
    "| `charges`   | float     | Individual medical costs billed by health insurance.             |\n"
   ],
   "metadata": {
    "collapsed": false,
    "jupyter": {
     "outputs_hidden": false,
     "source_hidden": false
    }
   },
   "id": "6918e18a-c248-4929-b552-7aee2057c0eb",
   "cell_type": "markdown"
  },
  {
   "source": [
    "# Import required libraries\n",
    "import pandas as pd\n",
    "import numpy as np\n",
    "from sklearn.preprocessing import StandardScaler\n",
    "from sklearn.model_selection import cross_val_score\n",
    "from sklearn.linear_model import LinearRegression\n",
    "from sklearn.model_selection import train_test_split\n",
    "from sklearn.preprocessing import OrdinalEncoder\n"
   ],
   "metadata": {
    "executionCancelledAt": null,
    "executionTime": 28,
    "lastExecutedAt": 1711265070173,
    "lastScheduledRunId": null,
    "lastSuccessfullyExecutedCode": "# Re-run this cell\n# Import required libraries\n\nimport pandas as pd\nimport numpy as np\nfrom sklearn.preprocessing import StandardScaler\nfrom sklearn.model_selection import cross_val_score\n\n# Loading the insurance dataset\ninsurance_data_path = 'insurance.csv'\ninsurance = pd.read_csv(insurance_data_path)\ninsurance.head()",
    "outputsMetadata": {
     "0": {
      "height": 196,
      "type": "dataFrame"
     }
    },
    "ExecuteTime": {
     "end_time": "2024-11-23T22:37:08.597349Z",
     "start_time": "2024-11-23T22:37:06.837728Z"
    }
   },
   "id": "81a07c66-a3d4-4fdd-9c3c-7b3a19b80d62",
   "cell_type": "code",
   "outputs": [],
   "execution_count": 3
  },
  {
   "metadata": {
    "ExecuteTime": {
     "end_time": "2024-11-23T22:58:44.375428Z",
     "start_time": "2024-11-23T22:58:44.334420Z"
    }
   },
   "cell_type": "code",
   "source": [
    "# Loading the insurance dataset\n",
    "insurance = pd.read_csv('data/insurance.csv')\n",
    "insurance"
   ],
   "id": "c222897b7f069a6a",
   "outputs": [
    {
     "data": {
      "text/plain": [
       "       age     sex     bmi  children smoker     region       charges\n",
       "0     19.0  female  27.900       0.0    yes  southwest     16884.924\n",
       "1     18.0    male  33.770       1.0     no  Southeast     1725.5523\n",
       "2     28.0    male  33.000       3.0     no  southeast     $4449.462\n",
       "3     33.0    male  22.705       0.0     no  northwest  $21984.47061\n",
       "4     32.0    male  28.880       0.0     no  northwest    $3866.8552\n",
       "...    ...     ...     ...       ...    ...        ...           ...\n",
       "1333  50.0    male  30.970       3.0     no  Northwest   $10600.5483\n",
       "1334 -18.0  female  31.920       0.0     no  Northeast     2205.9808\n",
       "1335  18.0  female  36.850       0.0     no  southeast    $1629.8335\n",
       "1336  21.0  female  25.800       0.0     no  southwest      2007.945\n",
       "1337  61.0  female  29.070       0.0    yes  northwest    29141.3603\n",
       "\n",
       "[1338 rows x 7 columns]"
      ],
      "text/html": [
       "<div>\n",
       "<style scoped>\n",
       "    .dataframe tbody tr th:only-of-type {\n",
       "        vertical-align: middle;\n",
       "    }\n",
       "\n",
       "    .dataframe tbody tr th {\n",
       "        vertical-align: top;\n",
       "    }\n",
       "\n",
       "    .dataframe thead th {\n",
       "        text-align: right;\n",
       "    }\n",
       "</style>\n",
       "<table border=\"1\" class=\"dataframe\">\n",
       "  <thead>\n",
       "    <tr style=\"text-align: right;\">\n",
       "      <th></th>\n",
       "      <th>age</th>\n",
       "      <th>sex</th>\n",
       "      <th>bmi</th>\n",
       "      <th>children</th>\n",
       "      <th>smoker</th>\n",
       "      <th>region</th>\n",
       "      <th>charges</th>\n",
       "    </tr>\n",
       "  </thead>\n",
       "  <tbody>\n",
       "    <tr>\n",
       "      <th>0</th>\n",
       "      <td>19.0</td>\n",
       "      <td>female</td>\n",
       "      <td>27.900</td>\n",
       "      <td>0.0</td>\n",
       "      <td>yes</td>\n",
       "      <td>southwest</td>\n",
       "      <td>16884.924</td>\n",
       "    </tr>\n",
       "    <tr>\n",
       "      <th>1</th>\n",
       "      <td>18.0</td>\n",
       "      <td>male</td>\n",
       "      <td>33.770</td>\n",
       "      <td>1.0</td>\n",
       "      <td>no</td>\n",
       "      <td>Southeast</td>\n",
       "      <td>1725.5523</td>\n",
       "    </tr>\n",
       "    <tr>\n",
       "      <th>2</th>\n",
       "      <td>28.0</td>\n",
       "      <td>male</td>\n",
       "      <td>33.000</td>\n",
       "      <td>3.0</td>\n",
       "      <td>no</td>\n",
       "      <td>southeast</td>\n",
       "      <td>$4449.462</td>\n",
       "    </tr>\n",
       "    <tr>\n",
       "      <th>3</th>\n",
       "      <td>33.0</td>\n",
       "      <td>male</td>\n",
       "      <td>22.705</td>\n",
       "      <td>0.0</td>\n",
       "      <td>no</td>\n",
       "      <td>northwest</td>\n",
       "      <td>$21984.47061</td>\n",
       "    </tr>\n",
       "    <tr>\n",
       "      <th>4</th>\n",
       "      <td>32.0</td>\n",
       "      <td>male</td>\n",
       "      <td>28.880</td>\n",
       "      <td>0.0</td>\n",
       "      <td>no</td>\n",
       "      <td>northwest</td>\n",
       "      <td>$3866.8552</td>\n",
       "    </tr>\n",
       "    <tr>\n",
       "      <th>...</th>\n",
       "      <td>...</td>\n",
       "      <td>...</td>\n",
       "      <td>...</td>\n",
       "      <td>...</td>\n",
       "      <td>...</td>\n",
       "      <td>...</td>\n",
       "      <td>...</td>\n",
       "    </tr>\n",
       "    <tr>\n",
       "      <th>1333</th>\n",
       "      <td>50.0</td>\n",
       "      <td>male</td>\n",
       "      <td>30.970</td>\n",
       "      <td>3.0</td>\n",
       "      <td>no</td>\n",
       "      <td>Northwest</td>\n",
       "      <td>$10600.5483</td>\n",
       "    </tr>\n",
       "    <tr>\n",
       "      <th>1334</th>\n",
       "      <td>-18.0</td>\n",
       "      <td>female</td>\n",
       "      <td>31.920</td>\n",
       "      <td>0.0</td>\n",
       "      <td>no</td>\n",
       "      <td>Northeast</td>\n",
       "      <td>2205.9808</td>\n",
       "    </tr>\n",
       "    <tr>\n",
       "      <th>1335</th>\n",
       "      <td>18.0</td>\n",
       "      <td>female</td>\n",
       "      <td>36.850</td>\n",
       "      <td>0.0</td>\n",
       "      <td>no</td>\n",
       "      <td>southeast</td>\n",
       "      <td>$1629.8335</td>\n",
       "    </tr>\n",
       "    <tr>\n",
       "      <th>1336</th>\n",
       "      <td>21.0</td>\n",
       "      <td>female</td>\n",
       "      <td>25.800</td>\n",
       "      <td>0.0</td>\n",
       "      <td>no</td>\n",
       "      <td>southwest</td>\n",
       "      <td>2007.945</td>\n",
       "    </tr>\n",
       "    <tr>\n",
       "      <th>1337</th>\n",
       "      <td>61.0</td>\n",
       "      <td>female</td>\n",
       "      <td>29.070</td>\n",
       "      <td>0.0</td>\n",
       "      <td>yes</td>\n",
       "      <td>northwest</td>\n",
       "      <td>29141.3603</td>\n",
       "    </tr>\n",
       "  </tbody>\n",
       "</table>\n",
       "<p>1338 rows × 7 columns</p>\n",
       "</div>"
      ]
     },
     "execution_count": 38,
     "metadata": {},
     "output_type": "execute_result"
    }
   ],
   "execution_count": 38
  },
  {
   "metadata": {
    "ExecuteTime": {
     "end_time": "2024-11-23T23:01:40.267502Z",
     "start_time": "2024-11-23T23:01:40.245076Z"
    }
   },
   "cell_type": "code",
   "source": "insurance.info()",
   "id": "58907445301fb94a",
   "outputs": [
    {
     "name": "stdout",
     "output_type": "stream",
     "text": [
      "<class 'pandas.core.frame.DataFrame'>\n",
      "RangeIndex: 1338 entries, 0 to 1337\n",
      "Data columns (total 7 columns):\n",
      " #   Column    Non-Null Count  Dtype  \n",
      "---  ------    --------------  -----  \n",
      " 0   age       1272 non-null   float64\n",
      " 1   sex       1272 non-null   object \n",
      " 2   bmi       1272 non-null   float64\n",
      " 3   children  1272 non-null   float64\n",
      " 4   smoker    1272 non-null   object \n",
      " 5   region    1272 non-null   object \n",
      " 6   charges   1284 non-null   object \n",
      "dtypes: float64(3), object(4)\n",
      "memory usage: 73.3+ KB\n"
     ]
    }
   ],
   "execution_count": 40
  },
  {
   "metadata": {},
   "cell_type": "markdown",
   "source": "## Data Cleaning",
   "id": "2e74f498be1e5bd7"
  },
  {
   "source": [
    "# Check for missiing values\n",
    "insurance.isna().sum()"
   ],
   "metadata": {
    "ExecuteTime": {
     "end_time": "2024-11-23T22:51:46.872338Z",
     "start_time": "2024-11-23T22:51:46.858446Z"
    }
   },
   "id": "a143c3b2-1ff1-47a0-8fc6-662b8b19dbf1",
   "cell_type": "code",
   "outputs": [
    {
     "data": {
      "text/plain": [
       "age         66\n",
       "sex         66\n",
       "bmi         66\n",
       "children    66\n",
       "smoker      66\n",
       "region      66\n",
       "charges     54\n",
       "dtype: int64"
      ]
     },
     "execution_count": 29,
     "metadata": {},
     "output_type": "execute_result"
    }
   ],
   "execution_count": 29
  },
  {
   "metadata": {
    "ExecuteTime": {
     "end_time": "2024-11-23T22:51:47.230664Z",
     "start_time": "2024-11-23T22:51:47.217318Z"
    }
   },
   "cell_type": "code",
   "source": [
    "# Check missing data percentage\n",
    "(insurance.isna().sum() / len(insurance)) * 100"
   ],
   "id": "c6239a754830c07b",
   "outputs": [
    {
     "data": {
      "text/plain": [
       "age         4.932735\n",
       "sex         4.932735\n",
       "bmi         4.932735\n",
       "children    4.932735\n",
       "smoker      4.932735\n",
       "region      4.932735\n",
       "charges     4.035874\n",
       "dtype: float64"
      ]
     },
     "execution_count": 30,
     "metadata": {},
     "output_type": "execute_result"
    }
   ],
   "execution_count": 30
  },
  {
   "metadata": {
    "ExecuteTime": {
     "end_time": "2024-11-23T22:51:47.377476Z",
     "start_time": "2024-11-23T22:51:47.362156Z"
    }
   },
   "cell_type": "code",
   "source": [
    "# Drop all missing data\n",
    "insurance.dropna(inplace=True)\n",
    "\n",
    "# Check missing data again\n",
    "insurance.isna().sum()"
   ],
   "id": "a1aea89b435db7cb",
   "outputs": [
    {
     "data": {
      "text/plain": [
       "age         0\n",
       "sex         0\n",
       "bmi         0\n",
       "children    0\n",
       "smoker      0\n",
       "region      0\n",
       "charges     0\n",
       "dtype: int64"
      ]
     },
     "execution_count": 31,
     "metadata": {},
     "output_type": "execute_result"
    }
   ],
   "execution_count": 31
  },
  {
   "metadata": {
    "ExecuteTime": {
     "end_time": "2024-11-23T23:05:47.649388Z",
     "start_time": "2024-11-23T23:05:47.636617Z"
    }
   },
   "cell_type": "code",
   "source": [
    "# Fix negative ages and children\n",
    "insurance['age'] = insurance['age'].apply(lambda x: x * -1 if x < 0 else x)\n",
    "insurance['children'] = insurance['children'].apply(lambda x: x * -1 if x < 0 else x)\n"
   ],
   "id": "6170c978996d0868",
   "outputs": [],
   "execution_count": 47
  },
  {
   "metadata": {
    "ExecuteTime": {
     "end_time": "2024-11-23T23:02:40.792419Z",
     "start_time": "2024-11-23T23:02:40.774322Z"
    }
   },
   "cell_type": "code",
   "source": [
    "# Clean `charges` column\n",
    "insurance['charges'] = insurance['charges'].str.replace(\"$\", '')\n",
    "\n",
    "# Take a look at `charges` column and change type\n",
    "insurance['charges'] = insurance['charges'].astype(float)\n",
    "\n",
    "# Drop all missing data\n",
    "insurance.dropna(inplace=True)\n",
    "\n",
    "# Final look at charges column\n",
    "insurance.charges"
   ],
   "id": "feff0e139006bcdc",
   "outputs": [
    {
     "data": {
      "text/plain": [
       "0       16884.92400\n",
       "1        1725.55230\n",
       "2        4449.46200\n",
       "3       21984.47061\n",
       "4        3866.85520\n",
       "           ...     \n",
       "1333    10600.54830\n",
       "1334     2205.98080\n",
       "1335     1629.83350\n",
       "1336     2007.94500\n",
       "1337    29141.36030\n",
       "Name: charges, Length: 1207, dtype: float64"
      ]
     },
     "execution_count": 43,
     "metadata": {},
     "output_type": "execute_result"
    }
   ],
   "execution_count": 43
  },
  {
   "metadata": {
    "ExecuteTime": {
     "end_time": "2024-11-23T23:12:35.959250Z",
     "start_time": "2024-11-23T23:12:35.946263Z"
    }
   },
   "cell_type": "code",
   "source": [
    "# Fix data in region\n",
    "insurance['region'] = insurance['region'].str.lower()\n",
    "\n",
    "# Fix data in sex\n",
    "insurance['sex'] = insurance['sex'].replace({\n",
    "    'woman': 'female',\n",
    "    'F': 'female',\n",
    "    'M': 'male',\n",
    "    'man': 'male',\n",
    "})"
   ],
   "id": "4a5980eeec8ab13c",
   "outputs": [],
   "execution_count": 59
  },
  {
   "metadata": {},
   "cell_type": "markdown",
   "source": "## Exploratory Data Analysis",
   "id": "7a4f2f15d827bf33"
  },
  {
   "metadata": {
    "ExecuteTime": {
     "end_time": "2024-11-23T23:05:55.745046Z",
     "start_time": "2024-11-23T23:05:55.699164Z"
    }
   },
   "cell_type": "code",
   "source": [
    "# Descriptive stats for numeric cols\n",
    "insurance.describe()"
   ],
   "id": "7f600ffe0e1537cf",
   "outputs": [
    {
     "data": {
      "text/plain": [
       "               age          bmi     children       charges\n",
       "count  1207.000000  1207.000000  1207.000000   1207.000000\n",
       "mean     39.231152    30.574147     1.075394  13311.273947\n",
       "std      14.075269     6.120031     1.203277  12136.057425\n",
       "min      18.000000    15.960000     0.000000   1121.873900\n",
       "25%      26.000000    26.190000     0.000000   4749.061450\n",
       "50%      39.000000    30.210000     1.000000   9447.250350\n",
       "75%      51.000000    34.580000     2.000000  16582.138605\n",
       "max      64.000000    53.130000     5.000000  63770.428010"
      ],
      "text/html": [
       "<div>\n",
       "<style scoped>\n",
       "    .dataframe tbody tr th:only-of-type {\n",
       "        vertical-align: middle;\n",
       "    }\n",
       "\n",
       "    .dataframe tbody tr th {\n",
       "        vertical-align: top;\n",
       "    }\n",
       "\n",
       "    .dataframe thead th {\n",
       "        text-align: right;\n",
       "    }\n",
       "</style>\n",
       "<table border=\"1\" class=\"dataframe\">\n",
       "  <thead>\n",
       "    <tr style=\"text-align: right;\">\n",
       "      <th></th>\n",
       "      <th>age</th>\n",
       "      <th>bmi</th>\n",
       "      <th>children</th>\n",
       "      <th>charges</th>\n",
       "    </tr>\n",
       "  </thead>\n",
       "  <tbody>\n",
       "    <tr>\n",
       "      <th>count</th>\n",
       "      <td>1207.000000</td>\n",
       "      <td>1207.000000</td>\n",
       "      <td>1207.000000</td>\n",
       "      <td>1207.000000</td>\n",
       "    </tr>\n",
       "    <tr>\n",
       "      <th>mean</th>\n",
       "      <td>39.231152</td>\n",
       "      <td>30.574147</td>\n",
       "      <td>1.075394</td>\n",
       "      <td>13311.273947</td>\n",
       "    </tr>\n",
       "    <tr>\n",
       "      <th>std</th>\n",
       "      <td>14.075269</td>\n",
       "      <td>6.120031</td>\n",
       "      <td>1.203277</td>\n",
       "      <td>12136.057425</td>\n",
       "    </tr>\n",
       "    <tr>\n",
       "      <th>min</th>\n",
       "      <td>18.000000</td>\n",
       "      <td>15.960000</td>\n",
       "      <td>0.000000</td>\n",
       "      <td>1121.873900</td>\n",
       "    </tr>\n",
       "    <tr>\n",
       "      <th>25%</th>\n",
       "      <td>26.000000</td>\n",
       "      <td>26.190000</td>\n",
       "      <td>0.000000</td>\n",
       "      <td>4749.061450</td>\n",
       "    </tr>\n",
       "    <tr>\n",
       "      <th>50%</th>\n",
       "      <td>39.000000</td>\n",
       "      <td>30.210000</td>\n",
       "      <td>1.000000</td>\n",
       "      <td>9447.250350</td>\n",
       "    </tr>\n",
       "    <tr>\n",
       "      <th>75%</th>\n",
       "      <td>51.000000</td>\n",
       "      <td>34.580000</td>\n",
       "      <td>2.000000</td>\n",
       "      <td>16582.138605</td>\n",
       "    </tr>\n",
       "    <tr>\n",
       "      <th>max</th>\n",
       "      <td>64.000000</td>\n",
       "      <td>53.130000</td>\n",
       "      <td>5.000000</td>\n",
       "      <td>63770.428010</td>\n",
       "    </tr>\n",
       "  </tbody>\n",
       "</table>\n",
       "</div>"
      ]
     },
     "execution_count": 48,
     "metadata": {},
     "output_type": "execute_result"
    }
   ],
   "execution_count": 48
  },
  {
   "metadata": {
    "ExecuteTime": {
     "end_time": "2024-11-23T23:12:40.452021Z",
     "start_time": "2024-11-23T23:12:40.422698Z"
    }
   },
   "cell_type": "code",
   "source": [
    "# Descriptive stats for Categorical cols\n",
    "insurance.describe(include='O')"
   ],
   "id": "1c7f56f53508c02c",
   "outputs": [
    {
     "data": {
      "text/plain": [
       "         sex smoker     region\n",
       "count   1207   1207       1207\n",
       "unique     2      2          4\n",
       "top     male     no  southeast\n",
       "freq     612    959        321"
      ],
      "text/html": [
       "<div>\n",
       "<style scoped>\n",
       "    .dataframe tbody tr th:only-of-type {\n",
       "        vertical-align: middle;\n",
       "    }\n",
       "\n",
       "    .dataframe tbody tr th {\n",
       "        vertical-align: top;\n",
       "    }\n",
       "\n",
       "    .dataframe thead th {\n",
       "        text-align: right;\n",
       "    }\n",
       "</style>\n",
       "<table border=\"1\" class=\"dataframe\">\n",
       "  <thead>\n",
       "    <tr style=\"text-align: right;\">\n",
       "      <th></th>\n",
       "      <th>sex</th>\n",
       "      <th>smoker</th>\n",
       "      <th>region</th>\n",
       "    </tr>\n",
       "  </thead>\n",
       "  <tbody>\n",
       "    <tr>\n",
       "      <th>count</th>\n",
       "      <td>1207</td>\n",
       "      <td>1207</td>\n",
       "      <td>1207</td>\n",
       "    </tr>\n",
       "    <tr>\n",
       "      <th>unique</th>\n",
       "      <td>2</td>\n",
       "      <td>2</td>\n",
       "      <td>4</td>\n",
       "    </tr>\n",
       "    <tr>\n",
       "      <th>top</th>\n",
       "      <td>male</td>\n",
       "      <td>no</td>\n",
       "      <td>southeast</td>\n",
       "    </tr>\n",
       "    <tr>\n",
       "      <th>freq</th>\n",
       "      <td>612</td>\n",
       "      <td>959</td>\n",
       "      <td>321</td>\n",
       "    </tr>\n",
       "  </tbody>\n",
       "</table>\n",
       "</div>"
      ]
     },
     "execution_count": 60,
     "metadata": {},
     "output_type": "execute_result"
    }
   ],
   "execution_count": 60
  },
  {
   "metadata": {
    "ExecuteTime": {
     "end_time": "2024-11-23T23:29:36.785001Z",
     "start_time": "2024-11-23T23:29:36.776730Z"
    }
   },
   "cell_type": "code",
   "source": [
    "age_cat = []\n",
    "for value in insurance.age.values:\n",
    "    if value < 30:\n",
    "        age_cat.append('18 - 29')\n",
    "    elif value < 40:\n",
    "        age_cat.append('30 - 39')\n",
    "    elif value < 50:\n",
    "        age_cat.append('40 - 49')\n",
    "    else:\n",
    "        age_cat.append('50 - above')"
   ],
   "id": "1a81393d25510ee9",
   "outputs": [],
   "execution_count": 63
  },
  {
   "metadata": {
    "ExecuteTime": {
     "end_time": "2024-11-23T23:29:53.910640Z",
     "start_time": "2024-11-23T23:29:53.898373Z"
    }
   },
   "cell_type": "code",
   "source": [
    "insurance['age_cat'] = age_cat\n",
    "insurance['age_cat']"
   ],
   "id": "c3db61daeccc633",
   "outputs": [
    {
     "data": {
      "text/plain": [
       "0          18 - 29\n",
       "1          18 - 29\n",
       "2          18 - 29\n",
       "3          30 - 39\n",
       "4          30 - 39\n",
       "           ...    \n",
       "1333    50 - above\n",
       "1334       18 - 29\n",
       "1335       18 - 29\n",
       "1336       18 - 29\n",
       "1337    50 - above\n",
       "Name: age_cat, Length: 1207, dtype: object"
      ]
     },
     "execution_count": 64,
     "metadata": {},
     "output_type": "execute_result"
    }
   ],
   "execution_count": 64
  },
  {
   "metadata": {},
   "cell_type": "code",
   "outputs": [],
   "execution_count": null,
   "source": "",
   "id": "cb685be6e8089337"
  }
 ],
 "metadata": {
  "colab": {
   "name": "Welcome to DataCamp Workspaces.ipynb",
   "provenance": []
  },
  "kernelspec": {
   "display_name": "Python 3 (ipykernel)",
   "language": "python",
   "name": "python3"
  },
  "language_info": {
   "codemirror_mode": {
    "name": "ipython",
    "version": 3
   },
   "file_extension": ".py",
   "mimetype": "text/x-python",
   "name": "python",
   "nbconvert_exporter": "python",
   "pygments_lexer": "ipython3",
   "version": "3.8.10"
  }
 },
 "nbformat": 4,
 "nbformat_minor": 5
}
