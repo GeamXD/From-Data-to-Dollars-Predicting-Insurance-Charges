{
 "cells": [
  {
   "cell_type": "markdown",
   "id": "6918e18a-c248-4929-b552-7aee2057c0eb",
   "metadata": {
    "jupyter": {
     "outputs_hidden": false,
     "source_hidden": false
    }
   },
   "source": [
    "![](image.jpg)\n",
    "\n",
    "\n",
    "Dive into the heart of data science with a project that combines healthcare insights and predictive analytics. As a Data Scientist at a top Health Insurance company, you have the opportunity to predict customer healthcare costs using the power of machine learning. Your insights will help tailor services and guide customers in planning their healthcare expenses more effectively.\n",
    "\n",
    "## Dataset Summary\n",
    "\n",
    "Meet your primary tool: the `insurance.csv` dataset. Packed with information on health insurance customers, this dataset is your key to unlocking patterns in healthcare costs. Here's what you need to know about the data you'll be working with:\n",
    "\n",
    "## insurance.csv\n",
    "| Column    | Data Type | Description                                                      |\n",
    "|-----------|-----------|------------------------------------------------------------------|\n",
    "| `age`       | int       | Age of the primary beneficiary.                                  |\n",
    "| `sex`       | object    | Gender of the insurance contractor (male or female).             |\n",
    "| `bmi`       | float     | Body mass index, a key indicator of body fat based on height and weight. |\n",
    "| `children`  | int       | Number of dependents covered by the insurance plan.              |\n",
    "| `smoker`    | object    | Indicates whether the beneficiary smokes (yes or no).            |\n",
    "| `region`    | object    | The beneficiary's residential area in the US, divided into four regions. |\n",
    "| `charges`   | float     | Individual medical costs billed by health insurance.             |\n"
   ]
  },
  {
   "cell_type": "code",
   "execution_count": 1,
   "id": "81a07c66-a3d4-4fdd-9c3c-7b3a19b80d62",
   "metadata": {
    "ExecuteTime": {
     "end_time": "2024-12-19T06:09:20.427234Z",
     "start_time": "2024-12-19T06:09:16.419482Z"
    },
    "executionCancelledAt": null,
    "executionTime": 28,
    "lastExecutedAt": 1711265070173,
    "lastScheduledRunId": null,
    "lastSuccessfullyExecutedCode": "# Re-run this cell\n# Import required libraries\n\nimport pandas as pd\nimport numpy as np\nfrom sklearn.preprocessing import StandardScaler\nfrom sklearn.model_selection import cross_val_score\n\n# Loading the insurance dataset\ninsurance_data_path = 'insurance.csv'\ninsurance = pd.read_csv(insurance_data_path)\ninsurance.head()",
    "outputsMetadata": {
     "0": {
      "height": 196,
      "type": "dataFrame"
     }
    }
   },
   "outputs": [],
   "source": [
    "# Import required libraries\n",
    "import pandas as pd\n",
    "import numpy as np\n",
    "import matplotlib.pyplot as plt\n",
    "import plotly.express as px\n",
    "from sklearn.ensemble import RandomForestRegressor\n",
    "from sklearn.preprocessing import StandardScaler\n",
    "from sklearn.pipeline import Pipeline, make_pipeline\n",
    "from sklearn.model_selection import cross_val_score\n",
    "from sklearn.model_selection import cross_val_predict\n",
    "from sklearn.compose import ColumnTransformer\n",
    "from sklearn.preprocessing import FunctionTransformer\n",
    "from sklearn.metrics import mean_squared_error\n",
    "from sklearn.metrics import mean_absolute_error\n",
    "from sklearn.linear_model import LinearRegression\n",
    "from sklearn.model_selection import train_test_split\n",
    "from sklearn.tree import DecisionTreeRegressor\n",
    "from sklearn.ensemble import RandomForestRegressor\n",
    "from category_encoders import OneHotEncoder\n",
    "from sklearn.metrics import r2_score"
   ]
  },
  {
   "cell_type": "code",
   "execution_count": 2,
   "id": "c222897b7f069a6a",
   "metadata": {
    "ExecuteTime": {
     "end_time": "2024-12-19T06:09:20.541254Z",
     "start_time": "2024-12-19T06:09:20.485630Z"
    }
   },
   "outputs": [
    {
     "data": {
      "text/html": [
       "<div>\n",
       "<style scoped>\n",
       "    .dataframe tbody tr th:only-of-type {\n",
       "        vertical-align: middle;\n",
       "    }\n",
       "\n",
       "    .dataframe tbody tr th {\n",
       "        vertical-align: top;\n",
       "    }\n",
       "\n",
       "    .dataframe thead th {\n",
       "        text-align: right;\n",
       "    }\n",
       "</style>\n",
       "<table border=\"1\" class=\"dataframe\">\n",
       "  <thead>\n",
       "    <tr style=\"text-align: right;\">\n",
       "      <th></th>\n",
       "      <th>age</th>\n",
       "      <th>sex</th>\n",
       "      <th>bmi</th>\n",
       "      <th>children</th>\n",
       "      <th>smoker</th>\n",
       "      <th>region</th>\n",
       "      <th>charges</th>\n",
       "    </tr>\n",
       "  </thead>\n",
       "  <tbody>\n",
       "    <tr>\n",
       "      <th>0</th>\n",
       "      <td>19.0</td>\n",
       "      <td>female</td>\n",
       "      <td>27.900</td>\n",
       "      <td>0.0</td>\n",
       "      <td>yes</td>\n",
       "      <td>southwest</td>\n",
       "      <td>16884.924</td>\n",
       "    </tr>\n",
       "    <tr>\n",
       "      <th>1</th>\n",
       "      <td>18.0</td>\n",
       "      <td>male</td>\n",
       "      <td>33.770</td>\n",
       "      <td>1.0</td>\n",
       "      <td>no</td>\n",
       "      <td>Southeast</td>\n",
       "      <td>1725.5523</td>\n",
       "    </tr>\n",
       "    <tr>\n",
       "      <th>2</th>\n",
       "      <td>28.0</td>\n",
       "      <td>male</td>\n",
       "      <td>33.000</td>\n",
       "      <td>3.0</td>\n",
       "      <td>no</td>\n",
       "      <td>southeast</td>\n",
       "      <td>$4449.462</td>\n",
       "    </tr>\n",
       "    <tr>\n",
       "      <th>3</th>\n",
       "      <td>33.0</td>\n",
       "      <td>male</td>\n",
       "      <td>22.705</td>\n",
       "      <td>0.0</td>\n",
       "      <td>no</td>\n",
       "      <td>northwest</td>\n",
       "      <td>$21984.47061</td>\n",
       "    </tr>\n",
       "    <tr>\n",
       "      <th>4</th>\n",
       "      <td>32.0</td>\n",
       "      <td>male</td>\n",
       "      <td>28.880</td>\n",
       "      <td>0.0</td>\n",
       "      <td>no</td>\n",
       "      <td>northwest</td>\n",
       "      <td>$3866.8552</td>\n",
       "    </tr>\n",
       "    <tr>\n",
       "      <th>...</th>\n",
       "      <td>...</td>\n",
       "      <td>...</td>\n",
       "      <td>...</td>\n",
       "      <td>...</td>\n",
       "      <td>...</td>\n",
       "      <td>...</td>\n",
       "      <td>...</td>\n",
       "    </tr>\n",
       "    <tr>\n",
       "      <th>1333</th>\n",
       "      <td>50.0</td>\n",
       "      <td>male</td>\n",
       "      <td>30.970</td>\n",
       "      <td>3.0</td>\n",
       "      <td>no</td>\n",
       "      <td>Northwest</td>\n",
       "      <td>$10600.5483</td>\n",
       "    </tr>\n",
       "    <tr>\n",
       "      <th>1334</th>\n",
       "      <td>-18.0</td>\n",
       "      <td>female</td>\n",
       "      <td>31.920</td>\n",
       "      <td>0.0</td>\n",
       "      <td>no</td>\n",
       "      <td>Northeast</td>\n",
       "      <td>2205.9808</td>\n",
       "    </tr>\n",
       "    <tr>\n",
       "      <th>1335</th>\n",
       "      <td>18.0</td>\n",
       "      <td>female</td>\n",
       "      <td>36.850</td>\n",
       "      <td>0.0</td>\n",
       "      <td>no</td>\n",
       "      <td>southeast</td>\n",
       "      <td>$1629.8335</td>\n",
       "    </tr>\n",
       "    <tr>\n",
       "      <th>1336</th>\n",
       "      <td>21.0</td>\n",
       "      <td>female</td>\n",
       "      <td>25.800</td>\n",
       "      <td>0.0</td>\n",
       "      <td>no</td>\n",
       "      <td>southwest</td>\n",
       "      <td>2007.945</td>\n",
       "    </tr>\n",
       "    <tr>\n",
       "      <th>1337</th>\n",
       "      <td>61.0</td>\n",
       "      <td>female</td>\n",
       "      <td>29.070</td>\n",
       "      <td>0.0</td>\n",
       "      <td>yes</td>\n",
       "      <td>northwest</td>\n",
       "      <td>29141.3603</td>\n",
       "    </tr>\n",
       "  </tbody>\n",
       "</table>\n",
       "<p>1338 rows × 7 columns</p>\n",
       "</div>"
      ],
      "text/plain": [
       "       age     sex     bmi  children smoker     region       charges\n",
       "0     19.0  female  27.900       0.0    yes  southwest     16884.924\n",
       "1     18.0    male  33.770       1.0     no  Southeast     1725.5523\n",
       "2     28.0    male  33.000       3.0     no  southeast     $4449.462\n",
       "3     33.0    male  22.705       0.0     no  northwest  $21984.47061\n",
       "4     32.0    male  28.880       0.0     no  northwest    $3866.8552\n",
       "...    ...     ...     ...       ...    ...        ...           ...\n",
       "1333  50.0    male  30.970       3.0     no  Northwest   $10600.5483\n",
       "1334 -18.0  female  31.920       0.0     no  Northeast     2205.9808\n",
       "1335  18.0  female  36.850       0.0     no  southeast    $1629.8335\n",
       "1336  21.0  female  25.800       0.0     no  southwest      2007.945\n",
       "1337  61.0  female  29.070       0.0    yes  northwest    29141.3603\n",
       "\n",
       "[1338 rows x 7 columns]"
      ]
     },
     "execution_count": 2,
     "metadata": {},
     "output_type": "execute_result"
    }
   ],
   "source": [
    "# Loading the insurance dataset\n",
    "insurance = pd.read_csv('data/insurance.csv')\n",
    "insurance"
   ]
  },
  {
   "cell_type": "code",
   "execution_count": 3,
   "id": "58907445301fb94a",
   "metadata": {
    "ExecuteTime": {
     "end_time": "2024-12-18T06:51:08.337430Z",
     "start_time": "2024-12-18T06:51:08.311482Z"
    }
   },
   "outputs": [
    {
     "name": "stdout",
     "output_type": "stream",
     "text": [
      "<class 'pandas.core.frame.DataFrame'>\n",
      "RangeIndex: 1338 entries, 0 to 1337\n",
      "Data columns (total 7 columns):\n",
      " #   Column    Non-Null Count  Dtype  \n",
      "---  ------    --------------  -----  \n",
      " 0   age       1272 non-null   float64\n",
      " 1   sex       1272 non-null   object \n",
      " 2   bmi       1272 non-null   float64\n",
      " 3   children  1272 non-null   float64\n",
      " 4   smoker    1272 non-null   object \n",
      " 5   region    1272 non-null   object \n",
      " 6   charges   1284 non-null   object \n",
      "dtypes: float64(3), object(4)\n",
      "memory usage: 73.3+ KB\n"
     ]
    }
   ],
   "source": [
    "insurance.info()"
   ]
  },
  {
   "cell_type": "markdown",
   "id": "2e74f498be1e5bd7",
   "metadata": {},
   "source": [
    "## Data Cleaning"
   ]
  },
  {
   "cell_type": "code",
   "execution_count": 4,
   "id": "a143c3b2-1ff1-47a0-8fc6-662b8b19dbf1",
   "metadata": {
    "ExecuteTime": {
     "end_time": "2024-12-18T06:51:08.604149Z",
     "start_time": "2024-12-18T06:51:08.590953Z"
    }
   },
   "outputs": [
    {
     "data": {
      "text/plain": [
       "age         66\n",
       "sex         66\n",
       "bmi         66\n",
       "children    66\n",
       "smoker      66\n",
       "region      66\n",
       "charges     54\n",
       "dtype: int64"
      ]
     },
     "execution_count": 4,
     "metadata": {},
     "output_type": "execute_result"
    }
   ],
   "source": [
    "# Check for missiing values\n",
    "insurance.isna().sum()"
   ]
  },
  {
   "cell_type": "code",
   "execution_count": null,
   "id": "ec2604653182ab84",
   "metadata": {},
   "outputs": [],
   "source": []
  },
  {
   "cell_type": "code",
   "execution_count": 5,
   "id": "c6239a754830c07b",
   "metadata": {
    "ExecuteTime": {
     "end_time": "2024-12-18T06:51:08.970913Z",
     "start_time": "2024-12-18T06:51:08.954620Z"
    }
   },
   "outputs": [
    {
     "data": {
      "text/plain": [
       "age         4.932735\n",
       "sex         4.932735\n",
       "bmi         4.932735\n",
       "children    4.932735\n",
       "smoker      4.932735\n",
       "region      4.932735\n",
       "charges     4.035874\n",
       "dtype: float64"
      ]
     },
     "execution_count": 5,
     "metadata": {},
     "output_type": "execute_result"
    }
   ],
   "source": [
    "# Check missing data percentage\n",
    "(insurance.isna().sum() / len(insurance)) * 100"
   ]
  },
  {
   "cell_type": "code",
   "execution_count": 6,
   "id": "a1aea89b435db7cb",
   "metadata": {
    "ExecuteTime": {
     "end_time": "2024-12-18T06:51:09.550613Z",
     "start_time": "2024-12-18T06:51:09.536473Z"
    }
   },
   "outputs": [
    {
     "data": {
      "text/plain": [
       "age         0\n",
       "sex         0\n",
       "bmi         0\n",
       "children    0\n",
       "smoker      0\n",
       "region      0\n",
       "charges     0\n",
       "dtype: int64"
      ]
     },
     "execution_count": 6,
     "metadata": {},
     "output_type": "execute_result"
    }
   ],
   "source": [
    "# Drop all missing data\n",
    "insurance.dropna(inplace=True)\n",
    "\n",
    "# Check missing data again\n",
    "insurance.isna().sum()"
   ]
  },
  {
   "cell_type": "code",
   "execution_count": 7,
   "id": "6170c978996d0868",
   "metadata": {
    "ExecuteTime": {
     "end_time": "2024-12-18T06:51:10.486503Z",
     "start_time": "2024-12-18T06:51:10.468095Z"
    }
   },
   "outputs": [],
   "source": [
    "# Fix negative ages and children\n",
    "insurance['age'] = insurance['age'].apply(lambda x: x * -1 if x < 0 else x)\n",
    "insurance['children'] = insurance['children'].apply(lambda x: x * -1 if x < 0 else x)\n"
   ]
  },
  {
   "cell_type": "code",
   "execution_count": 8,
   "id": "feff0e139006bcdc",
   "metadata": {
    "ExecuteTime": {
     "end_time": "2024-12-18T06:51:11.051739Z",
     "start_time": "2024-12-18T06:51:11.027610Z"
    }
   },
   "outputs": [
    {
     "data": {
      "text/plain": [
       "0       16884.92400\n",
       "1        1725.55230\n",
       "2        4449.46200\n",
       "3       21984.47061\n",
       "4        3866.85520\n",
       "           ...     \n",
       "1333    10600.54830\n",
       "1334     2205.98080\n",
       "1335     1629.83350\n",
       "1336     2007.94500\n",
       "1337    29141.36030\n",
       "Name: charges, Length: 1207, dtype: float64"
      ]
     },
     "execution_count": 8,
     "metadata": {},
     "output_type": "execute_result"
    }
   ],
   "source": [
    "# Clean `charges` column\n",
    "insurance['charges'] = insurance['charges'].str.replace(\"$\", '')\n",
    "\n",
    "# Take a look at `charges` column and change type\n",
    "insurance['charges'] = insurance['charges'].astype(float)\n",
    "\n",
    "# Drop all missing data\n",
    "insurance.dropna(inplace=True)\n",
    "\n",
    "# Final look at charges column\n",
    "insurance.charges"
   ]
  },
  {
   "cell_type": "code",
   "execution_count": 9,
   "id": "4a5980eeec8ab13c",
   "metadata": {
    "ExecuteTime": {
     "end_time": "2024-12-18T06:51:11.702711Z",
     "start_time": "2024-12-18T06:51:11.689732Z"
    }
   },
   "outputs": [],
   "source": [
    "# Fix data in region\n",
    "insurance['region'] = insurance['region'].str.lower()\n",
    "\n",
    "# Fix data in sex\n",
    "insurance['sex'] = insurance['sex'].replace({\n",
    "    'woman': 'female',\n",
    "    'F': 'female',\n",
    "    'M': 'male',\n",
    "    'man': 'male',\n",
    "})"
   ]
  },
  {
   "cell_type": "markdown",
   "id": "7a4f2f15d827bf33",
   "metadata": {},
   "source": [
    "## Exploratory Data Analysis"
   ]
  },
  {
   "cell_type": "code",
   "execution_count": 10,
   "id": "7f600ffe0e1537cf",
   "metadata": {
    "ExecuteTime": {
     "end_time": "2024-12-18T06:51:12.249898Z",
     "start_time": "2024-12-18T06:51:12.208681Z"
    }
   },
   "outputs": [
    {
     "data": {
      "text/html": [
       "<div>\n",
       "<style scoped>\n",
       "    .dataframe tbody tr th:only-of-type {\n",
       "        vertical-align: middle;\n",
       "    }\n",
       "\n",
       "    .dataframe tbody tr th {\n",
       "        vertical-align: top;\n",
       "    }\n",
       "\n",
       "    .dataframe thead th {\n",
       "        text-align: right;\n",
       "    }\n",
       "</style>\n",
       "<table border=\"1\" class=\"dataframe\">\n",
       "  <thead>\n",
       "    <tr style=\"text-align: right;\">\n",
       "      <th></th>\n",
       "      <th>age</th>\n",
       "      <th>bmi</th>\n",
       "      <th>children</th>\n",
       "      <th>charges</th>\n",
       "    </tr>\n",
       "  </thead>\n",
       "  <tbody>\n",
       "    <tr>\n",
       "      <th>count</th>\n",
       "      <td>1207.000000</td>\n",
       "      <td>1207.000000</td>\n",
       "      <td>1207.000000</td>\n",
       "      <td>1207.000000</td>\n",
       "    </tr>\n",
       "    <tr>\n",
       "      <th>mean</th>\n",
       "      <td>39.231152</td>\n",
       "      <td>30.574147</td>\n",
       "      <td>1.075394</td>\n",
       "      <td>13311.273947</td>\n",
       "    </tr>\n",
       "    <tr>\n",
       "      <th>std</th>\n",
       "      <td>14.075269</td>\n",
       "      <td>6.120031</td>\n",
       "      <td>1.203277</td>\n",
       "      <td>12136.057425</td>\n",
       "    </tr>\n",
       "    <tr>\n",
       "      <th>min</th>\n",
       "      <td>18.000000</td>\n",
       "      <td>15.960000</td>\n",
       "      <td>0.000000</td>\n",
       "      <td>1121.873900</td>\n",
       "    </tr>\n",
       "    <tr>\n",
       "      <th>25%</th>\n",
       "      <td>26.000000</td>\n",
       "      <td>26.190000</td>\n",
       "      <td>0.000000</td>\n",
       "      <td>4749.061450</td>\n",
       "    </tr>\n",
       "    <tr>\n",
       "      <th>50%</th>\n",
       "      <td>39.000000</td>\n",
       "      <td>30.210000</td>\n",
       "      <td>1.000000</td>\n",
       "      <td>9447.250350</td>\n",
       "    </tr>\n",
       "    <tr>\n",
       "      <th>75%</th>\n",
       "      <td>51.000000</td>\n",
       "      <td>34.580000</td>\n",
       "      <td>2.000000</td>\n",
       "      <td>16582.138605</td>\n",
       "    </tr>\n",
       "    <tr>\n",
       "      <th>max</th>\n",
       "      <td>64.000000</td>\n",
       "      <td>53.130000</td>\n",
       "      <td>5.000000</td>\n",
       "      <td>63770.428010</td>\n",
       "    </tr>\n",
       "  </tbody>\n",
       "</table>\n",
       "</div>"
      ],
      "text/plain": [
       "               age          bmi     children       charges\n",
       "count  1207.000000  1207.000000  1207.000000   1207.000000\n",
       "mean     39.231152    30.574147     1.075394  13311.273947\n",
       "std      14.075269     6.120031     1.203277  12136.057425\n",
       "min      18.000000    15.960000     0.000000   1121.873900\n",
       "25%      26.000000    26.190000     0.000000   4749.061450\n",
       "50%      39.000000    30.210000     1.000000   9447.250350\n",
       "75%      51.000000    34.580000     2.000000  16582.138605\n",
       "max      64.000000    53.130000     5.000000  63770.428010"
      ]
     },
     "execution_count": 10,
     "metadata": {},
     "output_type": "execute_result"
    }
   ],
   "source": [
    "# Descriptive stats for numeric cols\n",
    "insurance.describe()"
   ]
  },
  {
   "cell_type": "code",
   "execution_count": 11,
   "id": "1c7f56f53508c02c",
   "metadata": {
    "ExecuteTime": {
     "end_time": "2024-12-18T06:51:12.596544Z",
     "start_time": "2024-12-18T06:51:12.565831Z"
    }
   },
   "outputs": [
    {
     "data": {
      "text/html": [
       "<div>\n",
       "<style scoped>\n",
       "    .dataframe tbody tr th:only-of-type {\n",
       "        vertical-align: middle;\n",
       "    }\n",
       "\n",
       "    .dataframe tbody tr th {\n",
       "        vertical-align: top;\n",
       "    }\n",
       "\n",
       "    .dataframe thead th {\n",
       "        text-align: right;\n",
       "    }\n",
       "</style>\n",
       "<table border=\"1\" class=\"dataframe\">\n",
       "  <thead>\n",
       "    <tr style=\"text-align: right;\">\n",
       "      <th></th>\n",
       "      <th>sex</th>\n",
       "      <th>smoker</th>\n",
       "      <th>region</th>\n",
       "    </tr>\n",
       "  </thead>\n",
       "  <tbody>\n",
       "    <tr>\n",
       "      <th>count</th>\n",
       "      <td>1207</td>\n",
       "      <td>1207</td>\n",
       "      <td>1207</td>\n",
       "    </tr>\n",
       "    <tr>\n",
       "      <th>unique</th>\n",
       "      <td>2</td>\n",
       "      <td>2</td>\n",
       "      <td>4</td>\n",
       "    </tr>\n",
       "    <tr>\n",
       "      <th>top</th>\n",
       "      <td>male</td>\n",
       "      <td>no</td>\n",
       "      <td>southeast</td>\n",
       "    </tr>\n",
       "    <tr>\n",
       "      <th>freq</th>\n",
       "      <td>612</td>\n",
       "      <td>959</td>\n",
       "      <td>321</td>\n",
       "    </tr>\n",
       "  </tbody>\n",
       "</table>\n",
       "</div>"
      ],
      "text/plain": [
       "         sex smoker     region\n",
       "count   1207   1207       1207\n",
       "unique     2      2          4\n",
       "top     male     no  southeast\n",
       "freq     612    959        321"
      ]
     },
     "execution_count": 11,
     "metadata": {},
     "output_type": "execute_result"
    }
   ],
   "source": [
    "# Descriptive stats for Categorical cols\n",
    "insurance.describe(include='O')"
   ]
  },
  {
   "cell_type": "code",
   "execution_count": null,
   "id": "a243b764a63c3656",
   "metadata": {},
   "outputs": [],
   "source": []
  },
  {
   "cell_type": "code",
   "execution_count": 12,
   "id": "1a81393d25510ee9",
   "metadata": {
    "ExecuteTime": {
     "end_time": "2024-12-18T06:51:13.098793Z",
     "start_time": "2024-12-18T06:51:13.084960Z"
    }
   },
   "outputs": [],
   "source": [
    "# age category\n",
    "insurance['age_cat']=  pd.cut(insurance['age'], bins=[18, 29, 39, 49, np.inf], labels=['18 - 29', '30 - 39', '40 - 49','50 - above'], right=False)"
   ]
  },
  {
   "cell_type": "code",
   "execution_count": 13,
   "id": "410f2d86e75c06a7",
   "metadata": {
    "ExecuteTime": {
     "end_time": "2024-12-18T06:51:13.624878Z",
     "start_time": "2024-12-18T06:51:13.604765Z"
    }
   },
   "outputs": [],
   "source": [
    "# Properly prepare data\n",
    "# y = insurance['charges']\n",
    "# X = insurance.drop('charges', axis=1)\n",
    "insurance_train, insurance_test = train_test_split(insurance, test_size=.20, random_state=42, stratify=insurance['region']) # change the stratification for each iteration"
   ]
  },
  {
   "cell_type": "code",
   "execution_count": 14,
   "id": "2ebf6d7afe3c3446",
   "metadata": {
    "ExecuteTime": {
     "end_time": "2024-12-18T06:51:14.025517Z",
     "start_time": "2024-12-18T06:51:14.014962Z"
    }
   },
   "outputs": [],
   "source": [
    "insurance_features = insurance_train.drop('charges', axis=1)\n",
    "insurance_target = insurance_train['charges']"
   ]
  },
  {
   "cell_type": "code",
   "execution_count": 15,
   "id": "72ec4ffbcc6a82fd",
   "metadata": {
    "ExecuteTime": {
     "end_time": "2024-12-18T06:51:14.408479Z",
     "start_time": "2024-12-18T06:51:14.392017Z"
    }
   },
   "outputs": [],
   "source": [
    "# # One hot encoder for categories\n",
    "# cat_encoder = OneHotEncoder(use_cat_names=True)\n",
    "#\n",
    "# # Standard Scaler\n",
    "# standard_scaler = StandardScaler()\n",
    "\n",
    "# Define log scaler\n",
    "log_scaler = FunctionTransformer(np.log, inverse_func=np.exp)\n",
    "\n",
    "# Get numeric and categorical features\n",
    "num_attrib = insurance_features.select_dtypes(include=['int64', 'float64']).columns\n",
    "cat_attrib = insurance_features.select_dtypes(include=['object', 'category']).columns\n",
    "\n",
    "# Create num_pipeline\n",
    "num_pipeline = Pipeline([\n",
    "    ('standard', StandardScaler()),\n",
    "])\n",
    "\n",
    "# Create cat_pipeline\n",
    "cat_pipeline = Pipeline([\n",
    "    ('encode', OneHotEncoder(use_cat_names=True)),\n",
    "])\n",
    "\n",
    "preprocessing = ColumnTransformer([\n",
    "    ('num', num_pipeline, num_attrib),\n",
    "    ('cat', cat_pipeline, cat_attrib),\n",
    "])"
   ]
  },
  {
   "cell_type": "code",
   "execution_count": 16,
   "id": "978717c744dbc4f3",
   "metadata": {
    "ExecuteTime": {
     "end_time": "2024-12-18T06:51:14.639315Z",
     "start_time": "2024-12-18T06:51:14.630180Z"
    }
   },
   "outputs": [],
   "source": [
    "# Scale target for linear regression\n",
    "insurance_target_lg = log_scaler.fit_transform(insurance_target)"
   ]
  },
  {
   "cell_type": "code",
   "execution_count": 17,
   "id": "16d284d48d176ca8",
   "metadata": {
    "ExecuteTime": {
     "end_time": "2024-12-18T06:51:15.040139Z",
     "start_time": "2024-12-18T06:51:14.863427Z"
    }
   },
   "outputs": [],
   "source": [
    "# Linear reg prediction\n",
    "lin_reg = make_pipeline(preprocessing, LinearRegression())\n",
    "lin_reg.fit(insurance_features, insurance_target_lg)\n",
    "train_predictions = np.exp(lin_reg.predict(insurance_features))"
   ]
  },
  {
   "cell_type": "code",
   "execution_count": 18,
   "id": "e9d8b7004c6758c9",
   "metadata": {
    "ExecuteTime": {
     "end_time": "2024-12-18T06:51:15.196447Z",
     "start_time": "2024-12-18T06:51:15.179523Z"
    }
   },
   "outputs": [
    {
     "data": {
      "text/plain": [
       "('RMSE', 8294.308577720969, 'MAE', 4097.576423388866)"
      ]
     },
     "execution_count": 18,
     "metadata": {},
     "output_type": "execute_result"
    }
   ],
   "source": [
    "# Evaluate lin reg\n",
    "from sklearn.metrics import root_mean_squared_error\n",
    "rmse = root_mean_squared_error(insurance_target, train_predictions)\n",
    "mae = mean_absolute_error(insurance_target, train_predictions)\n",
    "('RMSE', rmse, 'MAE', mae)"
   ]
  },
  {
   "cell_type": "code",
   "execution_count": 19,
   "id": "6139731a3c539326",
   "metadata": {
    "ExecuteTime": {
     "end_time": "2024-12-18T06:51:15.558774Z",
     "start_time": "2024-12-18T06:51:15.545940Z"
    }
   },
   "outputs": [
    {
     "data": {
      "text/plain": [
       "0.5203836443039715"
      ]
     },
     "execution_count": 19,
     "metadata": {},
     "output_type": "execute_result"
    }
   ],
   "source": [
    "lin_reg_r2 = r2_score(insurance_target, train_predictions)\n",
    "lin_reg_r2"
   ]
  },
  {
   "cell_type": "code",
   "execution_count": 20,
   "id": "d2957bf873e3b2da",
   "metadata": {
    "ExecuteTime": {
     "end_time": "2024-12-18T06:51:30.425461Z",
     "start_time": "2024-12-18T06:51:30.414038Z"
    }
   },
   "outputs": [],
   "source": [
    "# def mean_std_sig(target, mae, rmse):\n",
    "#     # Compute train mean and std\n",
    "#     tr_mean = target.mean()\n",
    "#     tr_std = target.std()\n",
    "#\n",
    "#     # Analyze the impact of predictions\n",
    "#     mean_vs_rmse = (rmse / tr_mean) * 100\n",
    "#     mean_vs_mae = (mae / tr_mean) * 100\n",
    "#     std_vs_rmse = rmse / tr_std\n",
    "#     std_vs_mae = mae / tr_std\n",
    "#\n",
    "#     if mean_vs_rmse < 10:\n",
    "#         print(\n",
    "#             f\"\"\"\n",
    "#             Mean: {tr_mean:.2f}\n",
    "#             RMSE: {rmse:.2f}\n",
    "#             RATIO = {mean_vs_rmse: .2f} %\n",
    "#             Sig: Ratio is good, as it is less than 10\n",
    "#             \"\"\"\n",
    "#         )\n",
    "#     else:\n",
    "#         print(\n",
    "#             f\"\"\"\n",
    "#             Mean: {tr_mean:.2f}\n",
    "#             RMSE: {rmse:.2f}\n",
    "#             RATIO = {mean_vs_rmse: .2f} %\n",
    "#             Sig: Ratio is bad, as it is greater than 10\n",
    "#             \"\"\"\n",
    "#         )\n",
    "#\n",
    "#     if std_vs_rmse < 1:\n",
    "#         print(\n",
    "#             f\"\"\"\n",
    "#             Mean: {tr_std:.2f}\n",
    "#             RMSE: {rmse:.2f}\n",
    "#             RATIO = {std_vs_rmse: .2f} %\n",
    "#             Sig: Ratio is good, as it is less than 1\n",
    "#             \"\"\"\n",
    "#         )\n",
    "#     else:\n",
    "#         print(\n",
    "#             f\"\"\"\n",
    "#             Mean: {tr_mean:.2f}\n",
    "#             RMSE: {rmse:.2f}\n",
    "#             RATIO = {std_vs_rmse: .2f} %\n",
    "#             Sig: Ratio is bad, as it is greater than 1\n",
    "#             \"\"\"\n",
    "#         )\n",
    "#\n",
    "#     if mean_vs_mae < 10:\n",
    "#         print(\n",
    "#             f\"\"\"\n",
    "#             Mean: {tr_mean:.2f}\n",
    "#             MAE: {mae:.2f}\n",
    "#             RATIO = {mean_vs_mae: .2f} %\n",
    "#             Sig: Ratio is good, as it is less than 10\n",
    "#             \"\"\"\n",
    "#         )\n",
    "#     else:\n",
    "#         print(\n",
    "#             f\"\"\"\n",
    "#             Mean: {tr_std:.2f}\n",
    "#             MAE: {mae:.2f}\n",
    "#             RATIO = {mean_vs_mae: .2f} %\n",
    "#             Sig: Ratio is bad, as it is greater than 10\n",
    "#             \"\"\"\n",
    "#         )\n",
    "#\n",
    "#     if std_vs_mae < 10:\n",
    "#         print(\n",
    "#             f\"\"\"\n",
    "#             Mean: {tr_std:.2f}\n",
    "#             MAE: {mae:.2f}\n",
    "#             RATIO = {std_vs_mae: .2f} %\n",
    "#             Sig: Ratio is good, as it is less than 10\n",
    "#             \"\"\"\n",
    "#         )\n",
    "#     else:\n",
    "#         print(\n",
    "#             f\"\"\"\n",
    "#             Mean: {tr_std:.2f}\n",
    "#             MAE: {mae:.2f}\n",
    "#             RATIO = {std_vs_mae: .2f} %\n",
    "#             Sig: Ratio is bad, as it is greater than 10\n",
    "#             \"\"\"\n",
    "#         )\n"
   ]
  },
  {
   "cell_type": "code",
   "execution_count": 21,
   "id": "ffe952e5481d2eda",
   "metadata": {
    "ExecuteTime": {
     "end_time": "2024-12-18T06:51:35.673495Z",
     "start_time": "2024-12-18T06:51:35.661566Z"
    }
   },
   "outputs": [],
   "source": [
    "def mean_std_sig(target, mae, rmse):\n",
    "    \"\"\"\n",
    "    Analyze the relationship between mean, standard deviation of the target,\n",
    "    and prediction errors (MAE, RMSE).\n",
    "\n",
    "    Args:\n",
    "        target (pd.Series or np.array): Array of true target values.\n",
    "        mae (float): Mean Absolute Error of the predictions.\n",
    "        rmse (float): Root Mean Square Error of the predictions.\n",
    "\n",
    "    Returns:\n",
    "        dict: Computed metrics and analysis results.\n",
    "    \"\"\"\n",
    "    # Compute train mean and std\n",
    "    target_mean = target.mean()\n",
    "    target_std = target.std()\n",
    "\n",
    "    # Compute ratios\n",
    "    metrics = {\n",
    "        \"mean_vs_rmse_percent\": (rmse / target_mean) * 100,\n",
    "        \"mean_vs_mae_percent\": (mae / target_mean) * 100,\n",
    "        \"std_vs_rmse_ratio\": rmse / target_std,\n",
    "        \"std_vs_mae_ratio\": mae / target_std,\n",
    "    }\n",
    "\n",
    "    def analyze_ratio(metric_name, value, threshold, metric_label):\n",
    "        \"\"\"\n",
    "        Helper function to analyze a ratio and print results.\n",
    "        \"\"\"\n",
    "        if value < threshold:\n",
    "            print(f\"{metric_label}: {value:.2f} - Good (below {threshold})\")\n",
    "        else:\n",
    "            print(f\"{metric_label}: {value:.2f} - Bad (above {threshold})\")\n",
    "\n",
    "    # Analyze metrics\n",
    "    print(f\"Target Mean: {target_mean:.2f}, Target Std: {target_std:.2f}\\n\")\n",
    "    analyze_ratio(\"mean_vs_rmse_percent\", metrics[\"mean_vs_rmse_percent\"], 10, \"Mean vs RMSE (%)\")\n",
    "    analyze_ratio(\"std_vs_rmse_ratio\", metrics[\"std_vs_rmse_ratio\"], 1, \"Std vs RMSE (Ratio)\")\n",
    "    analyze_ratio(\"mean_vs_mae_percent\", metrics[\"mean_vs_mae_percent\"], 10, \"Mean vs MAE (%)\")\n",
    "    analyze_ratio(\"std_vs_mae_ratio\", metrics[\"std_vs_mae_ratio\"], 1, \"Std vs MAE (Ratio)\")\n",
    "\n",
    "    return metrics\n"
   ]
  },
  {
   "cell_type": "code",
   "execution_count": 22,
   "id": "fc67f2163e993f74",
   "metadata": {
    "ExecuteTime": {
     "end_time": "2024-12-18T06:51:38.405045Z",
     "start_time": "2024-12-18T06:51:38.393715Z"
    }
   },
   "outputs": [
    {
     "name": "stdout",
     "output_type": "stream",
     "text": [
      "Target Mean: 13049.40, Target Std: 11982.80\n",
      "\n",
      "Mean vs RMSE (%): 63.56 - Bad (above 10)\n",
      "Std vs RMSE (Ratio): 0.69 - Good (below 1)\n",
      "Mean vs MAE (%): 31.40 - Bad (above 10)\n",
      "Std vs MAE (Ratio): 0.34 - Good (below 1)\n"
     ]
    },
    {
     "data": {
      "text/plain": [
       "{'mean_vs_rmse_percent': 63.56084908700323,\n",
       " 'mean_vs_mae_percent': 31.400500021069245,\n",
       " 'std_vs_rmse_ratio': 0.6921844724699244,\n",
       " 'std_vs_mae_ratio': 0.34195481738490463}"
      ]
     },
     "execution_count": 22,
     "metadata": {},
     "output_type": "execute_result"
    }
   ],
   "source": [
    "# # Compute train mean and std\n",
    "# tr_mean = insurance_target.mean()\n",
    "# tr_std = insurance_target.std()\n",
    "#\n",
    "# # Analyze the impact of predictions\n",
    "# mean_vs_rmse = (rmse / tr_mean) * 100\n",
    "# mean_vs_mae = mae / tr_mean\n",
    "# std_vs_rmse = (rmse / tr_std) * 100\n",
    "# std_vs_mae = mae / tr_std\n",
    "#\n",
    "#\n",
    "#\n",
    "# print(mean_vs_rmse, mean_vs_mae, std_vs_rmse, std_vs_mae)\n",
    "#\n",
    "\n",
    "mean_std_sig(insurance_target, mae, rmse)"
   ]
  },
  {
   "cell_type": "code",
   "execution_count": 23,
   "id": "8ddb60daf5d849c6",
   "metadata": {
    "ExecuteTime": {
     "end_time": "2024-12-18T06:52:00.091734Z",
     "start_time": "2024-12-18T06:52:00.079347Z"
    }
   },
   "outputs": [
    {
     "data": {
      "text/plain": [
       "1027    -86.985440\n",
       "102     -85.636210\n",
       "526     -85.169854\n",
       "1019    -84.866003\n",
       "340     -82.896732\n",
       "           ...    \n",
       "301     142.376023\n",
       "103     151.415235\n",
       "92      153.928211\n",
       "442     154.718296\n",
       "1317    182.558593\n",
       "Name: charges, Length: 965, dtype: float64"
      ]
     },
     "execution_count": 23,
     "metadata": {},
     "output_type": "execute_result"
    }
   ],
   "source": [
    "# Compute error rations\n",
    "# ASK AI HOW TO READ THIS\n",
    "error_ratios = ((train_predictions / insurance_target) - 1) * 100\n",
    "error_ratios.sort_values()"
   ]
  },
  {
   "cell_type": "code",
   "execution_count": 25,
   "id": "1489476edc1d5fcb",
   "metadata": {
    "ExecuteTime": {
     "end_time": "2024-12-18T06:53:02.634567Z",
     "start_time": "2024-12-18T06:53:01.029670Z"
    }
   },
   "outputs": [
    {
     "data": {
      "text/plain": [
       "count    10.000000\n",
       "mean      0.744880\n",
       "std       0.032716\n",
       "min       0.685832\n",
       "25%       0.727950\n",
       "50%       0.754224\n",
       "75%       0.761724\n",
       "max       0.785540\n",
       "dtype: float64"
      ]
     },
     "execution_count": 25,
     "metadata": {},
     "output_type": "execute_result"
    }
   ],
   "source": [
    "# Evaluate lin reg using cv\n",
    "lin_cv_score = cross_val_score(lin_reg, insurance_features, insurance_target, cv=10, scoring='r2')\n",
    "pd.Series(lin_cv_score).describe()"
   ]
  },
  {
   "cell_type": "code",
   "execution_count": 68,
   "id": "f4e9e5ab558889d7",
   "metadata": {
    "ExecuteTime": {
     "end_time": "2024-12-16T09:11:20.459872Z",
     "start_time": "2024-12-16T09:11:19.168036Z"
    }
   },
   "outputs": [
    {
     "data": {
      "text/plain": [
       "count      10.000000\n",
       "mean     5984.009732\n",
       "std       545.038446\n",
       "min      5188.328937\n",
       "25%      5631.282369\n",
       "50%      5976.310783\n",
       "75%      6185.908576\n",
       "max      7119.490786\n",
       "dtype: float64"
      ]
     },
     "execution_count": 68,
     "metadata": {},
     "output_type": "execute_result"
    }
   ],
   "source": [
    "# Evaluate lin reg using cv\n",
    "lin_cv_score = -cross_val_score(lin_reg, insurance_features, insurance_target, cv=10, scoring='neg_root_mean_squared_error')\n",
    "pd.Series(lin_cv_score).describe()"
   ]
  },
  {
   "cell_type": "code",
   "execution_count": 46,
   "id": "8167c6821c866b10",
   "metadata": {
    "ExecuteTime": {
     "end_time": "2024-12-18T07:11:24.825063Z",
     "start_time": "2024-12-18T07:11:24.662629Z"
    }
   },
   "outputs": [
    {
     "data": {
      "text/plain": [
       "284.5598503115351"
      ]
     },
     "execution_count": 46,
     "metadata": {},
     "output_type": "execute_result"
    }
   ],
   "source": [
    "# Decision tree prediction\n",
    "tree_reg = make_pipeline(preprocessing, DecisionTreeRegressor(random_state=42))\n",
    "tree_reg.fit(insurance_features, insurance_target)\n",
    "tree_pred = tree_reg.predict(insurance_features)\n",
    "tree_rmse = root_mean_squared_error(insurance_target, tree_pred)\n",
    "tree_rmse"
   ]
  },
  {
   "cell_type": "code",
   "execution_count": 27,
   "id": "2aa6b4d20890de69",
   "metadata": {
    "ExecuteTime": {
     "end_time": "2024-12-18T06:53:32.315296Z",
     "start_time": "2024-12-18T06:53:31.131853Z"
    }
   },
   "outputs": [
    {
     "data": {
      "text/plain": [
       "count      10.000000\n",
       "mean     6266.941382\n",
       "std       694.053593\n",
       "min      5491.606513\n",
       "25%      5698.013311\n",
       "50%      6211.455688\n",
       "75%      6567.620645\n",
       "max      7456.917990\n",
       "dtype: float64"
      ]
     },
     "execution_count": 27,
     "metadata": {},
     "output_type": "execute_result"
    }
   ],
   "source": [
    "tree_rmses = -cross_val_score(tree_reg, insurance_features, insurance_target,\n",
    "                              scoring=\"neg_root_mean_squared_error\", cv=10)\n",
    "pd.Series(tree_rmses).describe()"
   ]
  },
  {
   "cell_type": "code",
   "execution_count": 28,
   "id": "29610a5fd54fe508",
   "metadata": {
    "ExecuteTime": {
     "end_time": "2024-12-18T06:53:43.521938Z",
     "start_time": "2024-12-18T06:53:41.931752Z"
    }
   },
   "outputs": [
    {
     "data": {
      "text/plain": [
       "count    10.000000\n",
       "mean      0.715870\n",
       "std       0.069626\n",
       "min       0.594643\n",
       "25%       0.676153\n",
       "50%       0.728481\n",
       "75%       0.765414\n",
       "max       0.805140\n",
       "dtype: float64"
      ]
     },
     "execution_count": 28,
     "metadata": {},
     "output_type": "execute_result"
    }
   ],
   "source": [
    "tree_rmses = cross_val_score(tree_reg, insurance_features, insurance_target,\n",
    "                              scoring=\"r2\", cv=10)\n",
    "pd.Series(tree_rmses).describe()"
   ]
  },
  {
   "cell_type": "code",
   "execution_count": 29,
   "id": "8b6d102c417d008",
   "metadata": {
    "ExecuteTime": {
     "end_time": "2024-12-18T06:54:57.688144Z",
     "start_time": "2024-12-18T06:54:57.500308Z"
    }
   },
   "outputs": [
    {
     "data": {
      "text/plain": [
       "284.5598503115351"
      ]
     },
     "execution_count": 29,
     "metadata": {},
     "output_type": "execute_result"
    }
   ],
   "source": [
    "# Random forest regressor\n",
    "rand_for_reg = make_pipeline(preprocessing, DecisionTreeRegressor(random_state=42))\n",
    "rand_for_reg.fit(insurance_features, insurance_target)\n",
    "rand_for_pred = rand_for_reg.predict(insurance_features)\n",
    "rand_for_rmse = root_mean_squared_error(insurance_target, rand_for_pred)\n",
    "rand_for_rmse"
   ]
  },
  {
   "cell_type": "code",
   "execution_count": 31,
   "id": "d8c276d7e2d40531",
   "metadata": {
    "ExecuteTime": {
     "end_time": "2024-12-18T06:59:13.193695Z",
     "start_time": "2024-12-18T06:59:11.816579Z"
    }
   },
   "outputs": [
    {
     "data": {
      "text/plain": [
       "count      10.000000\n",
       "mean     6266.941382\n",
       "std       694.053593\n",
       "min      5491.606513\n",
       "25%      5698.013311\n",
       "50%      6211.455688\n",
       "75%      6567.620645\n",
       "max      7456.917990\n",
       "dtype: float64"
      ]
     },
     "execution_count": 31,
     "metadata": {},
     "output_type": "execute_result"
    }
   ],
   "source": [
    "rand_for_rmses = -cross_val_score(rand_for_reg, insurance_features, insurance_target, cv=10, scoring='neg_root_mean_squared_error')\n",
    "pd.Series(rand_for_rmses).describe()"
   ]
  },
  {
   "cell_type": "code",
   "execution_count": 32,
   "id": "b660a8de30da67b7",
   "metadata": {
    "ExecuteTime": {
     "end_time": "2024-12-18T07:00:37.944613Z",
     "start_time": "2024-12-18T07:00:36.839840Z"
    }
   },
   "outputs": [
    {
     "data": {
      "text/plain": [
       "count    10.000000\n",
       "mean      0.715870\n",
       "std       0.069626\n",
       "min       0.594643\n",
       "25%       0.676153\n",
       "50%       0.728481\n",
       "75%       0.765414\n",
       "max       0.805140\n",
       "dtype: float64"
      ]
     },
     "execution_count": 32,
     "metadata": {},
     "output_type": "execute_result"
    }
   ],
   "source": [
    "rand_for_r2 = cross_val_score(rand_for_reg, insurance_features, insurance_target,\n",
    "                             scoring=\"r2\", cv=10)\n",
    "pd.Series(rand_for_r2).describe()"
   ]
  },
  {
   "cell_type": "code",
   "execution_count": 41,
   "id": "e258176ce93d47e5",
   "metadata": {
    "ExecuteTime": {
     "end_time": "2024-12-18T07:08:45.727177Z",
     "start_time": "2024-12-18T07:08:45.681503Z"
    }
   },
   "outputs": [
    {
     "data": {
      "text/plain": [
       "array([66554.65915638, 29397.42236364, 14704.6800073 , 12679.96173519,\n",
       "        8516.74689556, 57672.4878086 ,  9320.0715903 , 10634.65667464,\n",
       "        3065.92890755, 26339.83245604,  3174.54387504,  3213.85375934,\n",
       "        4565.66327909,  4058.8575756 ,  7674.42268121, 38627.19214942,\n",
       "       20203.49501401,  3129.96251973,  7046.49913659, 19930.75376352,\n",
       "        3928.27988212,  7303.96178075,  9357.90890736,  5126.23250016,\n",
       "       16451.85035431, 46037.34943671, 31533.4780562 ,  7240.81002177,\n",
       "        9376.93773987, 23657.41405056, 42530.27416068, 12205.29245406,\n",
       "        2894.14853601, 18132.56980432,  8428.48905946,  2889.65021606,\n",
       "       10861.78353563,  3797.30952418,  4738.87605826, 19415.40446362,\n",
       "        7039.5401743 ,  8378.01977592, 10629.76625388,  5351.98687812,\n",
       "        2618.07089647,  8816.79245024, 10627.0801423 , 11895.31860695,\n",
       "       11444.95077946,  7701.03606916, 12869.30581741, 16051.47258605,\n",
       "        5624.14882958, 13916.14880803,  6471.57078   ,  5529.54427948,\n",
       "        7678.30138312,  7300.31444777, 64562.50558135, 35536.86261313,\n",
       "       11927.33803354,  8948.18091535, 32010.11965633, 10463.502793  ,\n",
       "        5676.56360064, 17125.56773098,  4120.72586164,  2953.74297148,\n",
       "        4838.449598  ,  6193.33970804,  6239.95125482, 28331.76765558,\n",
       "       14033.51156246,  4876.43410306,  4526.49545528, 11626.06455947,\n",
       "       10004.46608209,  8823.73163866, 10973.79026259,  7846.96136087,\n",
       "       15838.08047002,  6076.54299013, 18780.56618558,  2439.44240694,\n",
       "       14002.58243594, 25781.85088608,  5247.27689634,  8334.45923622,\n",
       "        8378.88578291,  9567.41519592, 10931.96793671,  6402.63560211,\n",
       "        4508.10275395,  7566.54358722,  7732.67657234,  2742.090069  ,\n",
       "        8504.43555352, 11900.31099496,  3314.35564106, 12211.10976578,\n",
       "        3061.91806868,  5368.9071318 ,  4303.15010358, 13407.022998  ,\n",
       "        3415.58777138,  8497.38338846, 14685.02058585, 44977.30570909,\n",
       "        6564.25009524,  3801.16932255, 31191.13432062, 65744.57351648,\n",
       "        7754.81897306, 14099.12527862, 10550.53237793,  7779.53818678,\n",
       "       30602.27291451,  5145.03669956, 71921.20783627,  4888.79119252,\n",
       "       31978.89853536,  2668.40098436,  6424.73268944, 13400.43987194,\n",
       "       14530.0828843 ,  9250.30164869, 35193.09860974,  7717.07026196,\n",
       "       11158.46227985,  4596.69833375,  7721.64649069,  3023.63749517,\n",
       "        4406.07347007, 41247.20570423,  4427.5990115 ,  6803.00064195,\n",
       "        3217.66071466,  6626.55206019,  4721.77011402, 52667.10534183,\n",
       "       21230.11262578, 12924.02349023,  9546.83272891,  3083.06443029,\n",
       "       34266.845608  , 54327.93013511,  5929.04265804,  6392.2251804 ,\n",
       "        8689.58877305,  8750.6644207 ,  8629.92717648,  7259.76193383,\n",
       "        8013.17305354,  3020.43763423,  2730.97560332,  3298.43108052,\n",
       "        4535.09527283,  5222.37904614, 17619.70788097,  2630.43838588,\n",
       "       10665.32273644,  8499.35004471,  9937.67677762, 17214.76142776,\n",
       "        7404.9011083 ,  4786.45750153,  4944.03227771,  3480.19193999,\n",
       "       12048.77235168, 37496.12562092,  3893.1532858 , 14283.41449728,\n",
       "        9763.95015442, 13343.18686632, 11788.77794254, 10523.0406822 ,\n",
       "       11222.48927624,  7825.70235586, 11730.97972485, 22463.83394001,\n",
       "        3228.96173011, 12828.0438538 ,  2865.69162684,  7721.88215988,\n",
       "        3324.92346407,  2839.45694159, 31612.73706679,  9531.800927  ,\n",
       "        8445.48284178, 10655.27085602,  2971.55155568,  5010.4748227 ,\n",
       "        2531.24758414, 37546.76619668,  4057.26578918,  5066.63537086,\n",
       "       12618.61406025,  2872.44331434,  3569.06176712, 38606.83817336,\n",
       "        7741.86490419,  4157.6006297 ,  5391.38968876, 12991.52693632,\n",
       "       27626.90826372, 73675.71836061,  2386.82669084, 11565.70716817,\n",
       "       12555.12452735, 12489.50079871,  3168.96919395,  3106.08688651,\n",
       "       58652.39004295,  3005.72284952,  2824.46744812, 14820.1544347 ,\n",
       "        8252.18801081, 55417.86817054,  3181.08209683,  8993.03255544,\n",
       "       22268.85463192,  5190.24844832, 25026.50648236,  5204.29511361,\n",
       "       20541.48520305, 12466.59961908,  3285.48381899,  3120.10438799,\n",
       "        9659.05773275, 47039.09045482, 16386.22896491,  3087.20866463,\n",
       "       11175.66184638,  2610.21432354, 38555.829156  , 10774.97103332,\n",
       "        2667.0653456 ,  3562.58972447, 54141.26665234, 11500.61887757,\n",
       "       19284.69708438,  5413.67804629])"
      ]
     },
     "execution_count": 41,
     "metadata": {},
     "output_type": "execute_result"
    }
   ],
   "source": [
    "test_features = insurance_test.drop(columns=\"charges\")\n",
    "test_targets = insurance_test[\"charges\"]\n",
    "y_pred = np.exp(lin_reg.predict(test_features))\n",
    "y_pred"
   ]
  },
  {
   "cell_type": "code",
   "execution_count": 42,
   "id": "2dd86e44dbdd8144",
   "metadata": {
    "ExecuteTime": {
     "end_time": "2024-12-18T07:08:49.056052Z",
     "start_time": "2024-12-18T07:08:49.040871Z"
    }
   },
   "outputs": [
    {
     "data": {
      "text/plain": [
       "0.5295217710105926"
      ]
     },
     "execution_count": 42,
     "metadata": {},
     "output_type": "execute_result"
    }
   ],
   "source": [
    "final_lin_reg_r2 = r2_score(test_targets, y_pred)\n",
    "final_lin_reg_r2"
   ]
  },
  {
   "cell_type": "code",
   "execution_count": 43,
   "id": "41907f111b95d709",
   "metadata": {
    "ExecuteTime": {
     "end_time": "2024-12-18T07:08:57.301060Z",
     "start_time": "2024-12-18T07:08:56.351814Z"
    }
   },
   "outputs": [
    {
     "data": {
      "text/plain": [
       "array([0.83303464, 0.84936872, 0.81135177, 0.22718788, 0.80699162,\n",
       "       0.90095882, 0.77398975, 0.73065466, 0.81388177, 0.73903177])"
      ]
     },
     "execution_count": 43,
     "metadata": {},
     "output_type": "execute_result"
    }
   ],
   "source": [
    "r2_cv = cross_val_score(lin_reg, test_features, y_pred, cv=10, scoring='r2')\n"
   ]
  },
  {
   "cell_type": "code",
   "execution_count": 44,
   "id": "2d69c47e0b5e5224",
   "metadata": {
    "ExecuteTime": {
     "end_time": "2024-12-18T07:09:22.335607Z",
     "start_time": "2024-12-18T07:09:22.319999Z"
    }
   },
   "outputs": [
    {
     "data": {
      "text/plain": [
       "count    10.000000\n",
       "mean      0.748645\n",
       "std       0.190039\n",
       "min       0.227188\n",
       "25%       0.747771\n",
       "50%       0.809172\n",
       "75%       0.828246\n",
       "max       0.900959\n",
       "dtype: float64"
      ]
     },
     "execution_count": 44,
     "metadata": {},
     "output_type": "execute_result"
    }
   ],
   "source": [
    "pd.Series(r2_cv).describe()"
   ]
  },
  {
   "cell_type": "code",
   "execution_count": 58,
   "id": "b0f6549c9a1085d",
   "metadata": {
    "ExecuteTime": {
     "end_time": "2024-12-18T07:23:28.629632Z",
     "start_time": "2024-12-18T07:23:28.581366Z"
    }
   },
   "outputs": [],
   "source": [
    "# Decision tree\n",
    "y_pred_tr = tree_reg.predict(test_features)\n",
    "r2_score = r2_score(test_targets, y_pred_tr)"
   ]
  },
  {
   "cell_type": "code",
   "execution_count": 1,
   "id": "d519ae31aded7f09",
   "metadata": {
    "ExecuteTime": {
     "end_time": "2024-12-18T19:05:15.772354Z",
     "start_time": "2024-12-18T19:05:15.763039Z"
    }
   },
   "outputs": [],
   "source": [
    "def wrangle(df):\n",
    "    # Drop all missing data\n",
    "    df.dropna(inplace=True)\n",
    "\n",
    "    # Fix negative ages and children\n",
    "    df['age'] = df['age'].apply(lambda x: x * -1 if x < 0 else x)\n",
    "    df['children'] = df['children'].apply(lambda x: x * -1 if x < 0 else x)\n",
    "\n",
    "    # Clean `charges` column\n",
    "    # df['charges'] = df['charges'].str.replace(\"$\", '')\n",
    "\n",
    "    # Take a look at `charges` column and change type\n",
    "    # df['charges'] = df['charges'].astype(float)\n",
    "\n",
    "    # Drop all missing data\n",
    "    df.dropna(inplace=True)\n",
    "\n",
    "    # Fix data in region\n",
    "    df['region'] = df['region'].str.lower()\n",
    "\n",
    "    # Fix data in sex\n",
    "    df['sex'] = df['sex'].replace({\n",
    "        'woman': 'female',\n",
    "        'F': 'female',\n",
    "        'M': 'male',\n",
    "        'man': 'male',\n",
    "    })\n",
    "\n",
    "    # age category\n",
    "    df['age_cat']=  pd.cut(df['age'], bins=[18, 29, 39, 49, np.inf], labels=['18 - 29', '30 - 39', '40 - 49','50 - above'], right=False)\n",
    "    return df"
   ]
  },
  {
   "cell_type": "code",
   "execution_count": 55,
   "id": "98bfe25b14d62a2a",
   "metadata": {
    "ExecuteTime": {
     "end_time": "2024-12-18T07:19:52.612397Z",
     "start_time": "2024-12-18T07:19:52.603301Z"
    }
   },
   "outputs": [],
   "source": [
    "# load_validation set\n",
    "val_df = pd.read_csv(\"validation_dataset.csv\")"
   ]
  },
  {
   "cell_type": "code",
   "execution_count": 56,
   "id": "3826e3366d92cd96",
   "metadata": {
    "ExecuteTime": {
     "end_time": "2024-12-18T07:19:58.479323Z",
     "start_time": "2024-12-18T07:19:58.435479Z"
    }
   },
   "outputs": [
    {
     "data": {
      "text/html": [
       "<div>\n",
       "<style scoped>\n",
       "    .dataframe tbody tr th:only-of-type {\n",
       "        vertical-align: middle;\n",
       "    }\n",
       "\n",
       "    .dataframe tbody tr th {\n",
       "        vertical-align: top;\n",
       "    }\n",
       "\n",
       "    .dataframe thead th {\n",
       "        text-align: right;\n",
       "    }\n",
       "</style>\n",
       "<table border=\"1\" class=\"dataframe\">\n",
       "  <thead>\n",
       "    <tr style=\"text-align: right;\">\n",
       "      <th></th>\n",
       "      <th>age</th>\n",
       "      <th>sex</th>\n",
       "      <th>bmi</th>\n",
       "      <th>children</th>\n",
       "      <th>smoker</th>\n",
       "      <th>region</th>\n",
       "    </tr>\n",
       "  </thead>\n",
       "  <tbody>\n",
       "    <tr>\n",
       "      <th>0</th>\n",
       "      <td>18.0</td>\n",
       "      <td>female</td>\n",
       "      <td>24.090000</td>\n",
       "      <td>1.0</td>\n",
       "      <td>no</td>\n",
       "      <td>southeast</td>\n",
       "    </tr>\n",
       "    <tr>\n",
       "      <th>1</th>\n",
       "      <td>39.0</td>\n",
       "      <td>male</td>\n",
       "      <td>26.410000</td>\n",
       "      <td>0.0</td>\n",
       "      <td>yes</td>\n",
       "      <td>northeast</td>\n",
       "    </tr>\n",
       "    <tr>\n",
       "      <th>2</th>\n",
       "      <td>27.0</td>\n",
       "      <td>male</td>\n",
       "      <td>29.150000</td>\n",
       "      <td>0.0</td>\n",
       "      <td>yes</td>\n",
       "      <td>southeast</td>\n",
       "    </tr>\n",
       "    <tr>\n",
       "      <th>3</th>\n",
       "      <td>71.0</td>\n",
       "      <td>male</td>\n",
       "      <td>65.502135</td>\n",
       "      <td>13.0</td>\n",
       "      <td>yes</td>\n",
       "      <td>southeast</td>\n",
       "    </tr>\n",
       "    <tr>\n",
       "      <th>4</th>\n",
       "      <td>28.0</td>\n",
       "      <td>male</td>\n",
       "      <td>38.060000</td>\n",
       "      <td>0.0</td>\n",
       "      <td>no</td>\n",
       "      <td>southeast</td>\n",
       "    </tr>\n",
       "    <tr>\n",
       "      <th>5</th>\n",
       "      <td>70.0</td>\n",
       "      <td>female</td>\n",
       "      <td>72.958351</td>\n",
       "      <td>11.0</td>\n",
       "      <td>yes</td>\n",
       "      <td>southeast</td>\n",
       "    </tr>\n",
       "    <tr>\n",
       "      <th>6</th>\n",
       "      <td>29.0</td>\n",
       "      <td>female</td>\n",
       "      <td>32.110000</td>\n",
       "      <td>2.0</td>\n",
       "      <td>no</td>\n",
       "      <td>northwest</td>\n",
       "    </tr>\n",
       "    <tr>\n",
       "      <th>7</th>\n",
       "      <td>42.0</td>\n",
       "      <td>female</td>\n",
       "      <td>41.325000</td>\n",
       "      <td>1.0</td>\n",
       "      <td>no</td>\n",
       "      <td>northeast</td>\n",
       "    </tr>\n",
       "    <tr>\n",
       "      <th>8</th>\n",
       "      <td>48.0</td>\n",
       "      <td>female</td>\n",
       "      <td>36.575000</td>\n",
       "      <td>0.0</td>\n",
       "      <td>no</td>\n",
       "      <td>northwest</td>\n",
       "    </tr>\n",
       "    <tr>\n",
       "      <th>9</th>\n",
       "      <td>63.0</td>\n",
       "      <td>male</td>\n",
       "      <td>33.660000</td>\n",
       "      <td>3.0</td>\n",
       "      <td>no</td>\n",
       "      <td>southeast</td>\n",
       "    </tr>\n",
       "    <tr>\n",
       "      <th>10</th>\n",
       "      <td>27.0</td>\n",
       "      <td>male</td>\n",
       "      <td>18.905000</td>\n",
       "      <td>3.0</td>\n",
       "      <td>no</td>\n",
       "      <td>northeast</td>\n",
       "    </tr>\n",
       "    <tr>\n",
       "      <th>11</th>\n",
       "      <td>51.0</td>\n",
       "      <td>female</td>\n",
       "      <td>36.670000</td>\n",
       "      <td>2.0</td>\n",
       "      <td>no</td>\n",
       "      <td>northwest</td>\n",
       "    </tr>\n",
       "    <tr>\n",
       "      <th>12</th>\n",
       "      <td>60.0</td>\n",
       "      <td>female</td>\n",
       "      <td>24.530000</td>\n",
       "      <td>0.0</td>\n",
       "      <td>no</td>\n",
       "      <td>southeast</td>\n",
       "    </tr>\n",
       "    <tr>\n",
       "      <th>13</th>\n",
       "      <td>57.0</td>\n",
       "      <td>female</td>\n",
       "      <td>28.700000</td>\n",
       "      <td>0.0</td>\n",
       "      <td>no</td>\n",
       "      <td>southwest</td>\n",
       "    </tr>\n",
       "    <tr>\n",
       "      <th>14</th>\n",
       "      <td>20.0</td>\n",
       "      <td>female</td>\n",
       "      <td>28.975000</td>\n",
       "      <td>0.0</td>\n",
       "      <td>no</td>\n",
       "      <td>northwest</td>\n",
       "    </tr>\n",
       "    <tr>\n",
       "      <th>15</th>\n",
       "      <td>18.0</td>\n",
       "      <td>male</td>\n",
       "      <td>30.400000</td>\n",
       "      <td>3.0</td>\n",
       "      <td>no</td>\n",
       "      <td>northeast</td>\n",
       "    </tr>\n",
       "    <tr>\n",
       "      <th>16</th>\n",
       "      <td>83.0</td>\n",
       "      <td>male</td>\n",
       "      <td>89.097296</td>\n",
       "      <td>9.0</td>\n",
       "      <td>no</td>\n",
       "      <td>northwest</td>\n",
       "    </tr>\n",
       "    <tr>\n",
       "      <th>17</th>\n",
       "      <td>92.0</td>\n",
       "      <td>female</td>\n",
       "      <td>69.127267</td>\n",
       "      <td>13.0</td>\n",
       "      <td>yes</td>\n",
       "      <td>southeast</td>\n",
       "    </tr>\n",
       "    <tr>\n",
       "      <th>18</th>\n",
       "      <td>84.0</td>\n",
       "      <td>female</td>\n",
       "      <td>75.742693</td>\n",
       "      <td>2.0</td>\n",
       "      <td>yes</td>\n",
       "      <td>southwest</td>\n",
       "    </tr>\n",
       "    <tr>\n",
       "      <th>19</th>\n",
       "      <td>55.0</td>\n",
       "      <td>female</td>\n",
       "      <td>26.980000</td>\n",
       "      <td>0.0</td>\n",
       "      <td>no</td>\n",
       "      <td>northwest</td>\n",
       "    </tr>\n",
       "    <tr>\n",
       "      <th>20</th>\n",
       "      <td>23.0</td>\n",
       "      <td>male</td>\n",
       "      <td>18.715000</td>\n",
       "      <td>0.0</td>\n",
       "      <td>no</td>\n",
       "      <td>northwest</td>\n",
       "    </tr>\n",
       "    <tr>\n",
       "      <th>21</th>\n",
       "      <td>49.0</td>\n",
       "      <td>female</td>\n",
       "      <td>33.345000</td>\n",
       "      <td>2.0</td>\n",
       "      <td>no</td>\n",
       "      <td>northeast</td>\n",
       "    </tr>\n",
       "    <tr>\n",
       "      <th>22</th>\n",
       "      <td>33.0</td>\n",
       "      <td>female</td>\n",
       "      <td>35.530000</td>\n",
       "      <td>0.0</td>\n",
       "      <td>yes</td>\n",
       "      <td>northwest</td>\n",
       "    </tr>\n",
       "    <tr>\n",
       "      <th>23</th>\n",
       "      <td>47.0</td>\n",
       "      <td>female</td>\n",
       "      <td>36.000000</td>\n",
       "      <td>1.0</td>\n",
       "      <td>no</td>\n",
       "      <td>southwest</td>\n",
       "    </tr>\n",
       "    <tr>\n",
       "      <th>24</th>\n",
       "      <td>40.0</td>\n",
       "      <td>male</td>\n",
       "      <td>32.300000</td>\n",
       "      <td>2.0</td>\n",
       "      <td>no</td>\n",
       "      <td>northwest</td>\n",
       "    </tr>\n",
       "    <tr>\n",
       "      <th>25</th>\n",
       "      <td>21.0</td>\n",
       "      <td>female</td>\n",
       "      <td>35.720000</td>\n",
       "      <td>0.0</td>\n",
       "      <td>no</td>\n",
       "      <td>northwest</td>\n",
       "    </tr>\n",
       "    <tr>\n",
       "      <th>26</th>\n",
       "      <td>74.0</td>\n",
       "      <td>female</td>\n",
       "      <td>65.454749</td>\n",
       "      <td>13.0</td>\n",
       "      <td>yes</td>\n",
       "      <td>northeast</td>\n",
       "    </tr>\n",
       "    <tr>\n",
       "      <th>27</th>\n",
       "      <td>28.0</td>\n",
       "      <td>female</td>\n",
       "      <td>25.800000</td>\n",
       "      <td>0.0</td>\n",
       "      <td>no</td>\n",
       "      <td>southwest</td>\n",
       "    </tr>\n",
       "    <tr>\n",
       "      <th>28</th>\n",
       "      <td>57.0</td>\n",
       "      <td>female</td>\n",
       "      <td>25.740000</td>\n",
       "      <td>2.0</td>\n",
       "      <td>no</td>\n",
       "      <td>southeast</td>\n",
       "    </tr>\n",
       "    <tr>\n",
       "      <th>29</th>\n",
       "      <td>45.0</td>\n",
       "      <td>male</td>\n",
       "      <td>33.700000</td>\n",
       "      <td>1.0</td>\n",
       "      <td>no</td>\n",
       "      <td>southwest</td>\n",
       "    </tr>\n",
       "    <tr>\n",
       "      <th>30</th>\n",
       "      <td>27.0</td>\n",
       "      <td>female</td>\n",
       "      <td>32.395000</td>\n",
       "      <td>1.0</td>\n",
       "      <td>no</td>\n",
       "      <td>northeast</td>\n",
       "    </tr>\n",
       "    <tr>\n",
       "      <th>31</th>\n",
       "      <td>19.0</td>\n",
       "      <td>female</td>\n",
       "      <td>33.110000</td>\n",
       "      <td>0.0</td>\n",
       "      <td>yes</td>\n",
       "      <td>southeast</td>\n",
       "    </tr>\n",
       "    <tr>\n",
       "      <th>32</th>\n",
       "      <td>44.0</td>\n",
       "      <td>female</td>\n",
       "      <td>20.235000</td>\n",
       "      <td>1.0</td>\n",
       "      <td>yes</td>\n",
       "      <td>northeast</td>\n",
       "    </tr>\n",
       "    <tr>\n",
       "      <th>33</th>\n",
       "      <td>63.0</td>\n",
       "      <td>female</td>\n",
       "      <td>26.220000</td>\n",
       "      <td>0.0</td>\n",
       "      <td>no</td>\n",
       "      <td>northwest</td>\n",
       "    </tr>\n",
       "    <tr>\n",
       "      <th>34</th>\n",
       "      <td>43.0</td>\n",
       "      <td>female</td>\n",
       "      <td>24.700000</td>\n",
       "      <td>2.0</td>\n",
       "      <td>yes</td>\n",
       "      <td>northwest</td>\n",
       "    </tr>\n",
       "    <tr>\n",
       "      <th>35</th>\n",
       "      <td>46.0</td>\n",
       "      <td>male</td>\n",
       "      <td>40.375000</td>\n",
       "      <td>2.0</td>\n",
       "      <td>no</td>\n",
       "      <td>northwest</td>\n",
       "    </tr>\n",
       "    <tr>\n",
       "      <th>36</th>\n",
       "      <td>78.0</td>\n",
       "      <td>male</td>\n",
       "      <td>66.370173</td>\n",
       "      <td>11.0</td>\n",
       "      <td>yes</td>\n",
       "      <td>northwest</td>\n",
       "    </tr>\n",
       "    <tr>\n",
       "      <th>37</th>\n",
       "      <td>52.0</td>\n",
       "      <td>male</td>\n",
       "      <td>38.600000</td>\n",
       "      <td>2.0</td>\n",
       "      <td>no</td>\n",
       "      <td>southwest</td>\n",
       "    </tr>\n",
       "    <tr>\n",
       "      <th>38</th>\n",
       "      <td>18.0</td>\n",
       "      <td>male</td>\n",
       "      <td>21.780000</td>\n",
       "      <td>2.0</td>\n",
       "      <td>no</td>\n",
       "      <td>southeast</td>\n",
       "    </tr>\n",
       "    <tr>\n",
       "      <th>39</th>\n",
       "      <td>70.0</td>\n",
       "      <td>male</td>\n",
       "      <td>60.617535</td>\n",
       "      <td>10.0</td>\n",
       "      <td>no</td>\n",
       "      <td>southeast</td>\n",
       "    </tr>\n",
       "    <tr>\n",
       "      <th>40</th>\n",
       "      <td>29.0</td>\n",
       "      <td>male</td>\n",
       "      <td>34.400000</td>\n",
       "      <td>0.0</td>\n",
       "      <td>yes</td>\n",
       "      <td>southwest</td>\n",
       "    </tr>\n",
       "    <tr>\n",
       "      <th>41</th>\n",
       "      <td>35.0</td>\n",
       "      <td>male</td>\n",
       "      <td>39.710000</td>\n",
       "      <td>4.0</td>\n",
       "      <td>no</td>\n",
       "      <td>northeast</td>\n",
       "    </tr>\n",
       "    <tr>\n",
       "      <th>42</th>\n",
       "      <td>29.0</td>\n",
       "      <td>male</td>\n",
       "      <td>27.200000</td>\n",
       "      <td>0.0</td>\n",
       "      <td>no</td>\n",
       "      <td>southwest</td>\n",
       "    </tr>\n",
       "    <tr>\n",
       "      <th>43</th>\n",
       "      <td>89.0</td>\n",
       "      <td>male</td>\n",
       "      <td>68.736874</td>\n",
       "      <td>6.0</td>\n",
       "      <td>yes</td>\n",
       "      <td>northwest</td>\n",
       "    </tr>\n",
       "    <tr>\n",
       "      <th>44</th>\n",
       "      <td>26.0</td>\n",
       "      <td>male</td>\n",
       "      <td>32.490000</td>\n",
       "      <td>1.0</td>\n",
       "      <td>no</td>\n",
       "      <td>northeast</td>\n",
       "    </tr>\n",
       "    <tr>\n",
       "      <th>45</th>\n",
       "      <td>58.0</td>\n",
       "      <td>male</td>\n",
       "      <td>36.955000</td>\n",
       "      <td>2.0</td>\n",
       "      <td>yes</td>\n",
       "      <td>northwest</td>\n",
       "    </tr>\n",
       "    <tr>\n",
       "      <th>46</th>\n",
       "      <td>92.0</td>\n",
       "      <td>male</td>\n",
       "      <td>84.973279</td>\n",
       "      <td>11.0</td>\n",
       "      <td>yes</td>\n",
       "      <td>southwest</td>\n",
       "    </tr>\n",
       "    <tr>\n",
       "      <th>47</th>\n",
       "      <td>19.0</td>\n",
       "      <td>male</td>\n",
       "      <td>44.880000</td>\n",
       "      <td>0.0</td>\n",
       "      <td>yes</td>\n",
       "      <td>southeast</td>\n",
       "    </tr>\n",
       "    <tr>\n",
       "      <th>48</th>\n",
       "      <td>61.0</td>\n",
       "      <td>male</td>\n",
       "      <td>33.915000</td>\n",
       "      <td>0.0</td>\n",
       "      <td>no</td>\n",
       "      <td>northeast</td>\n",
       "    </tr>\n",
       "    <tr>\n",
       "      <th>49</th>\n",
       "      <td>44.0</td>\n",
       "      <td>female</td>\n",
       "      <td>38.060000</td>\n",
       "      <td>0.0</td>\n",
       "      <td>yes</td>\n",
       "      <td>southeast</td>\n",
       "    </tr>\n",
       "  </tbody>\n",
       "</table>\n",
       "</div>"
      ],
      "text/plain": [
       "     age     sex        bmi  children smoker     region\n",
       "0   18.0  female  24.090000       1.0     no  southeast\n",
       "1   39.0    male  26.410000       0.0    yes  northeast\n",
       "2   27.0    male  29.150000       0.0    yes  southeast\n",
       "3   71.0    male  65.502135      13.0    yes  southeast\n",
       "4   28.0    male  38.060000       0.0     no  southeast\n",
       "5   70.0  female  72.958351      11.0    yes  southeast\n",
       "6   29.0  female  32.110000       2.0     no  northwest\n",
       "7   42.0  female  41.325000       1.0     no  northeast\n",
       "8   48.0  female  36.575000       0.0     no  northwest\n",
       "9   63.0    male  33.660000       3.0     no  southeast\n",
       "10  27.0    male  18.905000       3.0     no  northeast\n",
       "11  51.0  female  36.670000       2.0     no  northwest\n",
       "12  60.0  female  24.530000       0.0     no  southeast\n",
       "13  57.0  female  28.700000       0.0     no  southwest\n",
       "14  20.0  female  28.975000       0.0     no  northwest\n",
       "15  18.0    male  30.400000       3.0     no  northeast\n",
       "16  83.0    male  89.097296       9.0     no  northwest\n",
       "17  92.0  female  69.127267      13.0    yes  southeast\n",
       "18  84.0  female  75.742693       2.0    yes  southwest\n",
       "19  55.0  female  26.980000       0.0     no  northwest\n",
       "20  23.0    male  18.715000       0.0     no  northwest\n",
       "21  49.0  female  33.345000       2.0     no  northeast\n",
       "22  33.0  female  35.530000       0.0    yes  northwest\n",
       "23  47.0  female  36.000000       1.0     no  southwest\n",
       "24  40.0    male  32.300000       2.0     no  northwest\n",
       "25  21.0  female  35.720000       0.0     no  northwest\n",
       "26  74.0  female  65.454749      13.0    yes  northeast\n",
       "27  28.0  female  25.800000       0.0     no  southwest\n",
       "28  57.0  female  25.740000       2.0     no  southeast\n",
       "29  45.0    male  33.700000       1.0     no  southwest\n",
       "30  27.0  female  32.395000       1.0     no  northeast\n",
       "31  19.0  female  33.110000       0.0    yes  southeast\n",
       "32  44.0  female  20.235000       1.0    yes  northeast\n",
       "33  63.0  female  26.220000       0.0     no  northwest\n",
       "34  43.0  female  24.700000       2.0    yes  northwest\n",
       "35  46.0    male  40.375000       2.0     no  northwest\n",
       "36  78.0    male  66.370173      11.0    yes  northwest\n",
       "37  52.0    male  38.600000       2.0     no  southwest\n",
       "38  18.0    male  21.780000       2.0     no  southeast\n",
       "39  70.0    male  60.617535      10.0     no  southeast\n",
       "40  29.0    male  34.400000       0.0    yes  southwest\n",
       "41  35.0    male  39.710000       4.0     no  northeast\n",
       "42  29.0    male  27.200000       0.0     no  southwest\n",
       "43  89.0    male  68.736874       6.0    yes  northwest\n",
       "44  26.0    male  32.490000       1.0     no  northeast\n",
       "45  58.0    male  36.955000       2.0    yes  northwest\n",
       "46  92.0    male  84.973279      11.0    yes  southwest\n",
       "47  19.0    male  44.880000       0.0    yes  southeast\n",
       "48  61.0    male  33.915000       0.0     no  northeast\n",
       "49  44.0  female  38.060000       0.0    yes  southeast"
      ]
     },
     "execution_count": 56,
     "metadata": {},
     "output_type": "execute_result"
    }
   ],
   "source": [
    "val_df"
   ]
  },
  {
   "cell_type": "code",
   "execution_count": 57,
   "id": "4111f683d4820747",
   "metadata": {
    "ExecuteTime": {
     "end_time": "2024-12-18T07:19:59.381033Z",
     "start_time": "2024-12-18T07:19:59.366596Z"
    }
   },
   "outputs": [],
   "source": [
    "val_df = wrangle(val_df)"
   ]
  },
  {
   "cell_type": "code",
   "execution_count": null,
   "id": "a690fe8739941363",
   "metadata": {},
   "outputs": [],
   "source": [
    "val_pred = tree_reg.predict(val_df)\n",
    "val_df['predicted_charges'] = val_pred\n",
    "validation_data = val_df.copy()"
   ]
  }
 ],
 "metadata": {
  "colab": {
   "name": "Welcome to DataCamp Workspaces.ipynb",
   "provenance": []
  },
  "kernelspec": {
   "display_name": "Python 3 (ipykernel)",
   "language": "python",
   "name": "python3"
  },
  "language_info": {
   "codemirror_mode": {
    "name": "ipython",
    "version": 3
   },
   "file_extension": ".py",
   "mimetype": "text/x-python",
   "name": "python",
   "nbconvert_exporter": "python",
   "pygments_lexer": "ipython3",
   "version": "3.11.5"
  }
 },
 "nbformat": 4,
 "nbformat_minor": 5
}
